{
 "cells": [
  {
   "cell_type": "markdown",
   "id": "12e59ee1",
   "metadata": {},
   "source": [
    "1. minimal data setup\n",
    "(note: my data cleaning is nonexistent, so Jiatong's preprocessing will be different and results will differ — nevertheless, the format is what matters here)"
   ]
  },
  {
   "cell_type": "code",
   "execution_count": 1,
   "id": "0c03def7",
   "metadata": {},
   "outputs": [],
   "source": [
    "from COS597.data_util import load_data, get_dataloader, prepare_data\n",
    "from datasets import load_dataset\n",
    "import torch\n",
    "import random\n",
    "import numpy as np\n",
    "import pandas as pd\n",
    "import matplotlib.pyplot as plt\n",
    "import re"
   ]
  },
  {
   "cell_type": "code",
   "execution_count": 2,
   "id": "33951b35",
   "metadata": {},
   "outputs": [
    {
     "data": {
      "text/plain": [
       "<torch._C.Generator at 0x7f2350d70310>"
      ]
     },
     "execution_count": 2,
     "metadata": {},
     "output_type": "execute_result"
    }
   ],
   "source": [
    "# CHANGE ME\n",
    "DEBUG = True\n",
    "SEED = 123\n",
    "\n",
    "random.seed(SEED)\n",
    "np.random.seed(SEED)\n",
    "torch.manual_seed(SEED)"
   ]
  },
  {
   "cell_type": "code",
   "execution_count": 29,
   "id": "25435711",
   "metadata": {},
   "outputs": [
    {
     "name": "stderr",
     "output_type": "stream",
     "text": [
      "12/03/2022 21:19:04 - INFO - __main__ - Loading dataset...\n",
      "12/03/2022 21:19:05 - WARNING - datasets.builder - Using custom data configuration default-eaa8771618ae72bf\n"
     ]
    },
    {
     "name": "stdout",
     "output_type": "stream",
     "text": [
      "Downloading and preparing dataset newsroom/default (download: Unknown size, generated: 4.94 GiB, post-processed: Unknown size, total: 4.94 GiB) to /u/mwtang/.cache/huggingface/datasets/newsroom/default-eaa8771618ae72bf/1.0.0/0de29640d173dddeab4d626e8ee328c9170949d0613c72900876d6f5dd789a41...\n"
     ]
    },
    {
     "data": {
      "application/json": {
       "ascii": false,
       "bar_format": null,
       "colour": null,
       "elapsed": 0.014580488204956055,
       "initial": 0,
       "n": 0,
       "ncols": null,
       "nrows": null,
       "postfix": null,
       "prefix": "Generating train split",
       "rate": null,
       "total": 995041,
       "unit": " examples",
       "unit_divisor": 1000,
       "unit_scale": false
      },
      "application/vnd.jupyter.widget-view+json": {
       "model_id": "",
       "version_major": 2,
       "version_minor": 0
      },
      "text/plain": [
       "Generating train split:   0%|          | 0/995041 [00:00<?, ? examples/s]"
      ]
     },
     "metadata": {},
     "output_type": "display_data"
    },
    {
     "data": {
      "application/json": {
       "ascii": false,
       "bar_format": null,
       "colour": null,
       "elapsed": 0.016312837600708008,
       "initial": 0,
       "n": 0,
       "ncols": null,
       "nrows": null,
       "postfix": null,
       "prefix": "Generating validation split",
       "rate": null,
       "total": 108837,
       "unit": " examples",
       "unit_divisor": 1000,
       "unit_scale": false
      },
      "application/vnd.jupyter.widget-view+json": {
       "model_id": "",
       "version_major": 2,
       "version_minor": 0
      },
      "text/plain": [
       "Generating validation split:   0%|          | 0/108837 [00:00<?, ? examples/s]"
      ]
     },
     "metadata": {},
     "output_type": "display_data"
    },
    {
     "data": {
      "application/json": {
       "ascii": false,
       "bar_format": null,
       "colour": null,
       "elapsed": 0.016242027282714844,
       "initial": 0,
       "n": 0,
       "ncols": null,
       "nrows": null,
       "postfix": null,
       "prefix": "Generating test split",
       "rate": null,
       "total": 108862,
       "unit": " examples",
       "unit_divisor": 1000,
       "unit_scale": false
      },
      "application/vnd.jupyter.widget-view+json": {
       "model_id": "",
       "version_major": 2,
       "version_minor": 0
      },
      "text/plain": [
       "Generating test split:   0%|          | 0/108862 [00:00<?, ? examples/s]"
      ]
     },
     "metadata": {},
     "output_type": "display_data"
    },
    {
     "name": "stdout",
     "output_type": "stream",
     "text": [
      "Dataset newsroom downloaded and prepared to /u/mwtang/.cache/huggingface/datasets/newsroom/default-eaa8771618ae72bf/1.0.0/0de29640d173dddeab4d626e8ee328c9170949d0613c72900876d6f5dd789a41. Subsequent calls will reuse this data.\n"
     ]
    },
    {
     "name": "stderr",
     "output_type": "stream",
     "text": [
      "12/03/2022 21:22:33 - INFO - __main__ - loaded 995041 data from newsroom.\n"
     ]
    }
   ],
   "source": [
    "# logging boilerplate\n",
    "# import logging\n",
    "# handlers = [logging.StreamHandler()]\n",
    "# logging.basicConfig(format='%(asctime)s - %(levelname)s - %(name)s - %(message)s',\n",
    "#                     datefmt='%m/%d/%Y %H:%M:%S',\n",
    "#                     level=logging.INFO,\n",
    "#                     handlers=handlers)\n",
    "# logger = logging.getLogger(__name__)\n",
    "\n",
    "# # load data\n",
    "# raw_data = load_data(logger, name='newsroom', split='train', data_dir='/n/fs/nlp-mwtang/onthefly/data')\n",
    "# if DEBUG:\n",
    "#     data = raw_data.select([i for i in range(200)])\n",
    "# else:\n",
    "#     data = raw_data"
   ]
  },
  {
   "cell_type": "code",
   "execution_count": 38,
   "id": "c5f26e93",
   "metadata": {},
   "outputs": [],
   "source": [
    "# n_sample = 3000\n",
    "# newsroom_raw_data = raw_data\n",
    "# newsroom_data = newsroom_raw_data.select([random.randint(0,len(raw_data)-1) for i in range(n_sample)])"
   ]
  },
  {
   "cell_type": "code",
   "execution_count": 3,
   "id": "e39bf85a",
   "metadata": {},
   "outputs": [
    {
     "name": "stderr",
     "output_type": "stream",
     "text": [
      "Reusing dataset cc_news (/u/mwtang/.cache/huggingface/datasets/cc_news/plain_text/1.0.0/ae469e556251e6e7e20a789f93803c7de19d0c4311b6854ab072fecb4e401bd6)\n"
     ]
    }
   ],
   "source": [
    "# load data\n",
    "raw_data = load_dataset('cc_news', split='train')\n",
    "if DEBUG:\n",
    "    data = raw_data.select([i for i in range(200)])\n",
    "else:\n",
    "    data = raw_data"
   ]
  },
  {
   "cell_type": "code",
   "execution_count": 4,
   "id": "c097eda0",
   "metadata": {},
   "outputs": [],
   "source": [
    "n_sample = 1000\n",
    "cc_raw_data = raw_data\n",
    "cc_data = cc_raw_data.select([random.randint(0,len(raw_data)-1) for i in range(n_sample)])"
   ]
  },
  {
   "cell_type": "markdown",
   "id": "17695f07",
   "metadata": {},
   "source": [
    "2. sparse retriever: bm25"
   ]
  },
  {
   "cell_type": "code",
   "execution_count": 5,
   "id": "a891a92b",
   "metadata": {},
   "outputs": [],
   "source": [
    "from rank_bm25 import BM25Okapi\n",
    "\n",
    "corpus = [x['text'] for x in cc_data]\n",
    "\n",
    "tokenized_corpus = [re.split(' |\\n', doc) for doc in corpus]\n",
    "\n",
    "bm25 = BM25Okapi(tokenized_corpus)"
   ]
  },
  {
   "cell_type": "code",
   "execution_count": 6,
   "id": "13f1e6fc",
   "metadata": {},
   "outputs": [],
   "source": [
    "query = cc_raw_data[120]['title']\n",
    "tokenized_query = re.split(' |\\n', query)\n",
    "neighbors = bm25.get_top_n(tokenized_query, range(len(corpus)), n=20)\n",
    "scores = bm25.get_scores(tokenized_query)"
   ]
  },
  {
   "cell_type": "code",
   "execution_count": 7,
   "id": "4280bb71",
   "metadata": {},
   "outputs": [],
   "source": [
    "# todo filter out \"Read the rest of the story\""
   ]
  },
  {
   "cell_type": "code",
   "execution_count": 114,
   "id": "b272ccb5",
   "metadata": {},
   "outputs": [
    {
     "data": {
      "text/plain": [
       "'Man, 22, dies in Duluth neighborhood shooting'"
      ]
     },
     "execution_count": 114,
     "metadata": {},
     "output_type": "execute_result"
    }
   ],
   "source": [
    "query"
   ]
  },
  {
   "cell_type": "code",
   "execution_count": 115,
   "id": "e6bb7d1d",
   "metadata": {},
   "outputs": [
    {
     "data": {
      "text/plain": [
       "['Man arrested, charged after trying to run over JPD officer with - MSNewsNow.com - Jackson, MS',\n",
       " 'Nashville police capture Waffle House restaurant shooting suspect',\n",
       " 'Is Kendall Jenner Dating NBA Player Ben Simmons?',\n",
       " 'Two injured in Medical District shooting',\n",
       " 'Sam Smith Announces New Album and Show in Detroit',\n",
       " 'Woman dies after being dragged by red SUV',\n",
       " '‘One down, 216 to go’: Republican says she received death threat after shooting',\n",
       " '19-year-old injured in shooting at Arkansas apartment',\n",
       " 'Police seek suspect after Toronto shooting',\n",
       " \"Denver's Yes Please Has All The Sassy Goods You Didn't Know You Needed\",\n",
       " 'Wrexham hero rescues eight-month-old baby girl from drowning after her pram rolled into River Dee',\n",
       " 'Man dies after driving car into canal in PSL - Fox29 WFLX TV, West Palm Beach, FL-news & weather',\n",
       " \"Hyundai's Czech car workers get big pay rise as labour market tightens\",\n",
       " 'Tuba Restaurant & Grill - Turkish Flair in the Mission',\n",
       " \"'At least they...\",\n",
       " 'Wright State clamps down on Youngstown State 83-57',\n",
       " 'Arizona man who sold ammo to Las Vegas shooter charged with manufacturing bullets',\n",
       " \"Magic's Nikola Vucevic: Encouraged to take more threes by coaches\",\n",
       " 'Middlebury moves past Plattsburgh',\n",
       " 'Italian gunman had far-right extremist ties - KOAA.com | Continuous News | Colorado Springs and Pueblo']"
      ]
     },
     "execution_count": 115,
     "metadata": {},
     "output_type": "execute_result"
    }
   ],
   "source": [
    "cc_data[neighbors]['title']"
   ]
  },
  {
   "cell_type": "code",
   "execution_count": 116,
   "id": "52a8af15",
   "metadata": {},
   "outputs": [
    {
     "data": {
      "text/plain": [
       "array([14.9124702 , 14.03554677, 10.48296713, 10.47085267, 10.46014066,\n",
       "       10.17979054,  9.77203427,  9.51050039,  9.50442443,  9.35809325,\n",
       "        9.23256251,  9.16889743,  9.11537601,  8.76863461,  8.72634239,\n",
       "        8.52716127,  8.44522421,  8.3577196 ,  8.34763229,  8.23027444])"
      ]
     },
     "execution_count": 116,
     "metadata": {},
     "output_type": "execute_result"
    }
   ],
   "source": [
    "scores[neighbors]"
   ]
  },
  {
   "cell_type": "markdown",
   "id": "660d83dc",
   "metadata": {},
   "source": [
    "3. dense retriever: SimCSE (FAIL: somehow no attempt at installing has succeeded)"
   ]
  },
  {
   "cell_type": "code",
   "execution_count": 121,
   "id": "f14fdd1d",
   "metadata": {},
   "outputs": [
    {
     "name": "stdout",
     "output_type": "stream",
     "text": [
      "Requirement already satisfied: simcse in /n/fs/nlp-mwtang/anaconda3/envs/stoch/lib/python3.8/site-packages (0.4)\n",
      "Requirement already satisfied: setuptools in /n/fs/nlp-mwtang/anaconda3/envs/stoch/lib/python3.8/site-packages (from simcse) (63.4.1)\n",
      "Requirement already satisfied: transformers in /n/fs/nlp-mwtang/anaconda3/envs/stoch/lib/python3.8/site-packages (from simcse) (3.4.0)\n",
      "Requirement already satisfied: scipy<1.6,>=1.5.4 in /n/fs/nlp-mwtang/anaconda3/envs/stoch/lib/python3.8/site-packages (from simcse) (1.5.4)\n",
      "Requirement already satisfied: torch in /n/fs/nlp-mwtang/anaconda3/envs/stoch/lib/python3.8/site-packages (from simcse) (1.7.0)\n",
      "Requirement already satisfied: numpy<1.20,>=1.19.5 in /n/fs/nlp-mwtang/anaconda3/envs/stoch/lib/python3.8/site-packages (from simcse) (1.19.5)\n",
      "Requirement already satisfied: tqdm in /n/fs/nlp-mwtang/anaconda3/envs/stoch/lib/python3.8/site-packages (from simcse) (4.62.1)\n",
      "Requirement already satisfied: scikit-learn in /n/fs/nlp-mwtang/anaconda3/envs/stoch/lib/python3.8/site-packages (from simcse) (1.0.2)\n",
      "Requirement already satisfied: threadpoolctl>=2.0.0 in /n/fs/nlp-mwtang/anaconda3/envs/stoch/lib/python3.8/site-packages (from scikit-learn->simcse) (3.1.0)\n",
      "Requirement already satisfied: joblib>=0.11 in /n/fs/nlp-mwtang/anaconda3/envs/stoch/lib/python3.8/site-packages (from scikit-learn->simcse) (1.2.0)\n",
      "Requirement already satisfied: future in /n/fs/nlp-mwtang/anaconda3/envs/stoch/lib/python3.8/site-packages (from torch->simcse) (0.18.2)\n",
      "Requirement already satisfied: typing-extensions in /n/fs/nlp-mwtang/anaconda3/envs/stoch/lib/python3.8/site-packages (from torch->simcse) (3.7.4.3)\n",
      "Requirement already satisfied: dataclasses in /n/fs/nlp-mwtang/anaconda3/envs/stoch/lib/python3.8/site-packages (from torch->simcse) (0.6)\n",
      "Requirement already satisfied: packaging in /n/fs/nlp-mwtang/anaconda3/envs/stoch/lib/python3.8/site-packages (from transformers->simcse) (21.3)\n",
      "Requirement already satisfied: filelock in /n/fs/nlp-mwtang/anaconda3/envs/stoch/lib/python3.8/site-packages (from transformers->simcse) (3.8.0)\n",
      "Requirement already satisfied: protobuf in /n/fs/nlp-mwtang/anaconda3/envs/stoch/lib/python3.8/site-packages (from transformers->simcse) (3.19.6)\n",
      "Requirement already satisfied: regex!=2019.12.17 in /n/fs/nlp-mwtang/anaconda3/envs/stoch/lib/python3.8/site-packages (from transformers->simcse) (2022.9.13)\n",
      "Requirement already satisfied: requests in /n/fs/nlp-mwtang/anaconda3/envs/stoch/lib/python3.8/site-packages (from transformers->simcse) (2.28.1)\n",
      "Requirement already satisfied: sentencepiece!=0.1.92 in /n/fs/nlp-mwtang/anaconda3/envs/stoch/lib/python3.8/site-packages (from transformers->simcse) (0.1.97)\n",
      "Requirement already satisfied: sacremoses in /n/fs/nlp-mwtang/anaconda3/envs/stoch/lib/python3.8/site-packages (from transformers->simcse) (0.0.53)\n",
      "Requirement already satisfied: tokenizers==0.9.2 in /n/fs/nlp-mwtang/anaconda3/envs/stoch/lib/python3.8/site-packages (from transformers->simcse) (0.9.2)\n",
      "Requirement already satisfied: pyparsing!=3.0.5,>=2.0.2 in /n/fs/nlp-mwtang/anaconda3/envs/stoch/lib/python3.8/site-packages (from packaging->transformers->simcse) (3.0.9)\n",
      "Requirement already satisfied: idna<4,>=2.5 in /n/fs/nlp-mwtang/anaconda3/envs/stoch/lib/python3.8/site-packages (from requests->transformers->simcse) (3.4)\n",
      "Requirement already satisfied: charset-normalizer<3,>=2 in /n/fs/nlp-mwtang/anaconda3/envs/stoch/lib/python3.8/site-packages (from requests->transformers->simcse) (2.1.1)\n",
      "Requirement already satisfied: certifi>=2017.4.17 in /n/fs/nlp-mwtang/anaconda3/envs/stoch/lib/python3.8/site-packages (from requests->transformers->simcse) (2022.9.14)\n",
      "Requirement already satisfied: urllib3<1.27,>=1.21.1 in /n/fs/nlp-mwtang/anaconda3/envs/stoch/lib/python3.8/site-packages (from requests->transformers->simcse) (1.26.12)\n",
      "Requirement already satisfied: six in /n/fs/nlp-mwtang/anaconda3/envs/stoch/lib/python3.8/site-packages (from sacremoses->transformers->simcse) (1.15.0)\n",
      "Requirement already satisfied: click in /n/fs/nlp-mwtang/anaconda3/envs/stoch/lib/python3.8/site-packages (from sacremoses->transformers->simcse) (8.1.3)\n"
     ]
    }
   ],
   "source": [
    "!pip install simcse"
   ]
  },
  {
   "cell_type": "code",
   "execution_count": 131,
   "id": "6b760dca",
   "metadata": {},
   "outputs": [
    {
     "ename": "OSError",
     "evalue": "Can't load config for 'princeton-nlp/unsup-simcse-bert-base-uncased'. Make sure that:\n\n- 'princeton-nlp/unsup-simcse-bert-base-uncased' is a correct model identifier listed on 'https://huggingface.co/models'\n\n- or 'princeton-nlp/unsup-simcse-bert-base-uncased' is the correct path to a directory containing a config.json file\n\n",
     "output_type": "error",
     "traceback": [
      "\u001b[0;31m---------------------------------------------------------------------------\u001b[0m",
      "\u001b[0;31mOSError\u001b[0m                                   Traceback (most recent call last)",
      "File \u001b[0;32m/n/fs/nlp-mwtang/anaconda3/envs/stoch/lib/python3.8/site-packages/transformers/configuration_utils.py:373\u001b[0m, in \u001b[0;36mPretrainedConfig.get_config_dict\u001b[0;34m(cls, pretrained_model_name_or_path, **kwargs)\u001b[0m\n\u001b[1;32m    372\u001b[0m \u001b[38;5;28;01mif\u001b[39;00m resolved_config_file \u001b[38;5;129;01mis\u001b[39;00m \u001b[38;5;28;01mNone\u001b[39;00m:\n\u001b[0;32m--> 373\u001b[0m     \u001b[38;5;28;01mraise\u001b[39;00m \u001b[38;5;167;01mEnvironmentError\u001b[39;00m\n\u001b[1;32m    374\u001b[0m config_dict \u001b[38;5;241m=\u001b[39m \u001b[38;5;28mcls\u001b[39m\u001b[38;5;241m.\u001b[39m_dict_from_json_file(resolved_config_file)\n",
      "\u001b[0;31mOSError\u001b[0m: ",
      "\nDuring handling of the above exception, another exception occurred:\n",
      "\u001b[0;31mOSError\u001b[0m                                   Traceback (most recent call last)",
      "Cell \u001b[0;32mIn [131], line 2\u001b[0m\n\u001b[1;32m      1\u001b[0m \u001b[38;5;66;03m# from simcse import SimCSE\u001b[39;00m\n\u001b[0;32m----> 2\u001b[0m model \u001b[38;5;241m=\u001b[39m \u001b[43mSimCSE\u001b[49m\u001b[43m(\u001b[49m\u001b[38;5;124;43m\"\u001b[39;49m\u001b[38;5;124;43mprinceton-nlp/unsup-simcse-bert-base-uncased\u001b[39;49m\u001b[38;5;124;43m\"\u001b[39;49m\u001b[43m)\u001b[49m\n",
      "File \u001b[0;32m/n/fs/nlp-mwtang/anaconda3/envs/stoch/lib/python3.8/site-packages/simcse/tool.py:27\u001b[0m, in \u001b[0;36mSimCSE.__init__\u001b[0;34m(self, model_name_or_path, device, num_cells, num_cells_in_search, pooler)\u001b[0m\n\u001b[1;32m     21\u001b[0m \u001b[38;5;28;01mdef\u001b[39;00m \u001b[38;5;21m__init__\u001b[39m(\u001b[38;5;28mself\u001b[39m, model_name_or_path: \u001b[38;5;28mstr\u001b[39m, \n\u001b[1;32m     22\u001b[0m             device: \u001b[38;5;28mstr\u001b[39m \u001b[38;5;241m=\u001b[39m \u001b[38;5;28;01mNone\u001b[39;00m,\n\u001b[1;32m     23\u001b[0m             num_cells: \u001b[38;5;28mint\u001b[39m \u001b[38;5;241m=\u001b[39m \u001b[38;5;241m100\u001b[39m,\n\u001b[1;32m     24\u001b[0m             num_cells_in_search: \u001b[38;5;28mint\u001b[39m \u001b[38;5;241m=\u001b[39m \u001b[38;5;241m10\u001b[39m,\n\u001b[1;32m     25\u001b[0m             pooler \u001b[38;5;241m=\u001b[39m \u001b[38;5;28;01mNone\u001b[39;00m):\n\u001b[0;32m---> 27\u001b[0m     \u001b[38;5;28mself\u001b[39m\u001b[38;5;241m.\u001b[39mtokenizer \u001b[38;5;241m=\u001b[39m \u001b[43mAutoTokenizer\u001b[49m\u001b[38;5;241;43m.\u001b[39;49m\u001b[43mfrom_pretrained\u001b[49m\u001b[43m(\u001b[49m\u001b[43mmodel_name_or_path\u001b[49m\u001b[43m)\u001b[49m\n\u001b[1;32m     28\u001b[0m     \u001b[38;5;28mself\u001b[39m\u001b[38;5;241m.\u001b[39mmodel \u001b[38;5;241m=\u001b[39m AutoModel\u001b[38;5;241m.\u001b[39mfrom_pretrained(model_name_or_path)\n\u001b[1;32m     29\u001b[0m     \u001b[38;5;28;01mif\u001b[39;00m device \u001b[38;5;129;01mis\u001b[39;00m \u001b[38;5;28;01mNone\u001b[39;00m:\n",
      "File \u001b[0;32m/n/fs/nlp-mwtang/anaconda3/envs/stoch/lib/python3.8/site-packages/transformers/tokenization_auto.py:298\u001b[0m, in \u001b[0;36mAutoTokenizer.from_pretrained\u001b[0;34m(cls, pretrained_model_name_or_path, *inputs, **kwargs)\u001b[0m\n\u001b[1;32m    296\u001b[0m config \u001b[38;5;241m=\u001b[39m kwargs\u001b[38;5;241m.\u001b[39mpop(\u001b[38;5;124m\"\u001b[39m\u001b[38;5;124mconfig\u001b[39m\u001b[38;5;124m\"\u001b[39m, \u001b[38;5;28;01mNone\u001b[39;00m)\n\u001b[1;32m    297\u001b[0m \u001b[38;5;28;01mif\u001b[39;00m \u001b[38;5;129;01mnot\u001b[39;00m \u001b[38;5;28misinstance\u001b[39m(config, PretrainedConfig):\n\u001b[0;32m--> 298\u001b[0m     config \u001b[38;5;241m=\u001b[39m \u001b[43mAutoConfig\u001b[49m\u001b[38;5;241;43m.\u001b[39;49m\u001b[43mfrom_pretrained\u001b[49m\u001b[43m(\u001b[49m\u001b[43mpretrained_model_name_or_path\u001b[49m\u001b[43m,\u001b[49m\u001b[43m \u001b[49m\u001b[38;5;241;43m*\u001b[39;49m\u001b[38;5;241;43m*\u001b[39;49m\u001b[43mkwargs\u001b[49m\u001b[43m)\u001b[49m\n\u001b[1;32m    300\u001b[0m \u001b[38;5;28;01mif\u001b[39;00m \u001b[38;5;124m\"\u001b[39m\u001b[38;5;124mbert-base-japanese\u001b[39m\u001b[38;5;124m\"\u001b[39m \u001b[38;5;129;01min\u001b[39;00m \u001b[38;5;28mstr\u001b[39m(pretrained_model_name_or_path):\n\u001b[1;32m    301\u001b[0m     \u001b[38;5;28;01mreturn\u001b[39;00m BertJapaneseTokenizer\u001b[38;5;241m.\u001b[39mfrom_pretrained(pretrained_model_name_or_path, \u001b[38;5;241m*\u001b[39minputs, \u001b[38;5;241m*\u001b[39m\u001b[38;5;241m*\u001b[39mkwargs)\n",
      "File \u001b[0;32m/n/fs/nlp-mwtang/anaconda3/envs/stoch/lib/python3.8/site-packages/transformers/configuration_auto.py:330\u001b[0m, in \u001b[0;36mAutoConfig.from_pretrained\u001b[0;34m(cls, pretrained_model_name_or_path, **kwargs)\u001b[0m\n\u001b[1;32m    255\u001b[0m \u001b[38;5;129m@classmethod\u001b[39m\n\u001b[1;32m    256\u001b[0m \u001b[38;5;129m@replace_list_option_in_docstrings\u001b[39m()\n\u001b[1;32m    257\u001b[0m \u001b[38;5;28;01mdef\u001b[39;00m \u001b[38;5;21mfrom_pretrained\u001b[39m(\u001b[38;5;28mcls\u001b[39m, pretrained_model_name_or_path, \u001b[38;5;241m*\u001b[39m\u001b[38;5;241m*\u001b[39mkwargs):\n\u001b[1;32m    258\u001b[0m     \u001b[38;5;124mr\u001b[39m\u001b[38;5;124;03m\"\"\"\u001b[39;00m\n\u001b[1;32m    259\u001b[0m \u001b[38;5;124;03m    Instantiate one of the configuration classes of the library from a pretrained model configuration.\u001b[39;00m\n\u001b[1;32m    260\u001b[0m \n\u001b[0;32m   (...)\u001b[0m\n\u001b[1;32m    328\u001b[0m \u001b[38;5;124;03m        {'foo': False}\u001b[39;00m\n\u001b[1;32m    329\u001b[0m \u001b[38;5;124;03m    \"\"\"\u001b[39;00m\n\u001b[0;32m--> 330\u001b[0m     config_dict, _ \u001b[38;5;241m=\u001b[39m \u001b[43mPretrainedConfig\u001b[49m\u001b[38;5;241;43m.\u001b[39;49m\u001b[43mget_config_dict\u001b[49m\u001b[43m(\u001b[49m\u001b[43mpretrained_model_name_or_path\u001b[49m\u001b[43m,\u001b[49m\u001b[43m \u001b[49m\u001b[38;5;241;43m*\u001b[39;49m\u001b[38;5;241;43m*\u001b[39;49m\u001b[43mkwargs\u001b[49m\u001b[43m)\u001b[49m\n\u001b[1;32m    332\u001b[0m     \u001b[38;5;28;01mif\u001b[39;00m \u001b[38;5;124m\"\u001b[39m\u001b[38;5;124mmodel_type\u001b[39m\u001b[38;5;124m\"\u001b[39m \u001b[38;5;129;01min\u001b[39;00m config_dict:\n\u001b[1;32m    333\u001b[0m         config_class \u001b[38;5;241m=\u001b[39m CONFIG_MAPPING[config_dict[\u001b[38;5;124m\"\u001b[39m\u001b[38;5;124mmodel_type\u001b[39m\u001b[38;5;124m\"\u001b[39m]]\n",
      "File \u001b[0;32m/n/fs/nlp-mwtang/anaconda3/envs/stoch/lib/python3.8/site-packages/transformers/configuration_utils.py:382\u001b[0m, in \u001b[0;36mPretrainedConfig.get_config_dict\u001b[0;34m(cls, pretrained_model_name_or_path, **kwargs)\u001b[0m\n\u001b[1;32m    376\u001b[0m \u001b[38;5;28;01mexcept\u001b[39;00m \u001b[38;5;167;01mEnvironmentError\u001b[39;00m:\n\u001b[1;32m    377\u001b[0m     msg \u001b[38;5;241m=\u001b[39m (\n\u001b[1;32m    378\u001b[0m         \u001b[38;5;124mf\u001b[39m\u001b[38;5;124m\"\u001b[39m\u001b[38;5;124mCan\u001b[39m\u001b[38;5;124m'\u001b[39m\u001b[38;5;124mt load config for \u001b[39m\u001b[38;5;124m'\u001b[39m\u001b[38;5;132;01m{\u001b[39;00mpretrained_model_name_or_path\u001b[38;5;132;01m}\u001b[39;00m\u001b[38;5;124m'\u001b[39m\u001b[38;5;124m. Make sure that:\u001b[39m\u001b[38;5;130;01m\\n\u001b[39;00m\u001b[38;5;130;01m\\n\u001b[39;00m\u001b[38;5;124m\"\u001b[39m\n\u001b[1;32m    379\u001b[0m         \u001b[38;5;124mf\u001b[39m\u001b[38;5;124m\"\u001b[39m\u001b[38;5;124m- \u001b[39m\u001b[38;5;124m'\u001b[39m\u001b[38;5;132;01m{\u001b[39;00mpretrained_model_name_or_path\u001b[38;5;132;01m}\u001b[39;00m\u001b[38;5;124m'\u001b[39m\u001b[38;5;124m is a correct model identifier listed on \u001b[39m\u001b[38;5;124m'\u001b[39m\u001b[38;5;124mhttps://huggingface.co/models\u001b[39m\u001b[38;5;124m'\u001b[39m\u001b[38;5;130;01m\\n\u001b[39;00m\u001b[38;5;130;01m\\n\u001b[39;00m\u001b[38;5;124m\"\u001b[39m\n\u001b[1;32m    380\u001b[0m         \u001b[38;5;124mf\u001b[39m\u001b[38;5;124m\"\u001b[39m\u001b[38;5;124m- or \u001b[39m\u001b[38;5;124m'\u001b[39m\u001b[38;5;132;01m{\u001b[39;00mpretrained_model_name_or_path\u001b[38;5;132;01m}\u001b[39;00m\u001b[38;5;124m'\u001b[39m\u001b[38;5;124m is the correct path to a directory containing a \u001b[39m\u001b[38;5;132;01m{\u001b[39;00mCONFIG_NAME\u001b[38;5;132;01m}\u001b[39;00m\u001b[38;5;124m file\u001b[39m\u001b[38;5;130;01m\\n\u001b[39;00m\u001b[38;5;130;01m\\n\u001b[39;00m\u001b[38;5;124m\"\u001b[39m\n\u001b[1;32m    381\u001b[0m     )\n\u001b[0;32m--> 382\u001b[0m     \u001b[38;5;28;01mraise\u001b[39;00m \u001b[38;5;167;01mEnvironmentError\u001b[39;00m(msg)\n\u001b[1;32m    384\u001b[0m \u001b[38;5;28;01mexcept\u001b[39;00m json\u001b[38;5;241m.\u001b[39mJSONDecodeError:\n\u001b[1;32m    385\u001b[0m     msg \u001b[38;5;241m=\u001b[39m (\n\u001b[1;32m    386\u001b[0m         \u001b[38;5;124m\"\u001b[39m\u001b[38;5;124mCouldn\u001b[39m\u001b[38;5;124m'\u001b[39m\u001b[38;5;124mt reach server at \u001b[39m\u001b[38;5;124m'\u001b[39m\u001b[38;5;132;01m{}\u001b[39;00m\u001b[38;5;124m'\u001b[39m\u001b[38;5;124m to download configuration file or \u001b[39m\u001b[38;5;124m\"\u001b[39m\n\u001b[1;32m    387\u001b[0m         \u001b[38;5;124m\"\u001b[39m\u001b[38;5;124mconfiguration file is not a valid JSON file. \u001b[39m\u001b[38;5;124m\"\u001b[39m\n\u001b[1;32m    388\u001b[0m         \u001b[38;5;124m\"\u001b[39m\u001b[38;5;124mPlease check network or file content here: \u001b[39m\u001b[38;5;132;01m{}\u001b[39;00m\u001b[38;5;124m.\u001b[39m\u001b[38;5;124m\"\u001b[39m\u001b[38;5;241m.\u001b[39mformat(config_file, resolved_config_file)\n\u001b[1;32m    389\u001b[0m     )\n",
      "\u001b[0;31mOSError\u001b[0m: Can't load config for 'princeton-nlp/unsup-simcse-bert-base-uncased'. Make sure that:\n\n- 'princeton-nlp/unsup-simcse-bert-base-uncased' is a correct model identifier listed on 'https://huggingface.co/models'\n\n- or 'princeton-nlp/unsup-simcse-bert-base-uncased' is the correct path to a directory containing a config.json file\n\n"
     ]
    }
   ],
   "source": [
    "# from simcse import SimCSE\n",
    "model = SimCSE(\"princeton-nlp/sup-simcse-bert-base-uncased\")"
   ]
  },
  {
   "cell_type": "code",
   "execution_count": null,
   "id": "b9d10c7c",
   "metadata": {},
   "outputs": [],
   "source": [
    "model.build_index(sentences)\n",
    "results = model.search(\"He plays guitar.\")"
   ]
  },
  {
   "cell_type": "code",
   "execution_count": null,
   "id": "63ac79cc",
   "metadata": {},
   "outputs": [],
   "source": [
    "embeddings = model.encode(\"A woman is reading.\")"
   ]
  },
  {
   "cell_type": "code",
   "execution_count": null,
   "id": "5bd77815",
   "metadata": {},
   "outputs": [],
   "source": [
    "# prepare data\n",
    "tokenizer = \n",
    "input_tensors = prepare_data(logger, tokenizer,\n",
    "                             data,\n",
    "                             title_prefix= \"Title:\",\n",
    "                             content_prefix= \"Content:\", \n",
    "                             max_length=args.input_max_len\n",
    "                             )"
   ]
  },
  {
   "cell_type": "markdown",
   "id": "f403e4e4",
   "metadata": {},
   "source": [
    "4. PPLM with on-the-fly discriminator via retrieved reference documents"
   ]
  },
  {
   "cell_type": "code",
   "execution_count": 8,
   "id": "b1f82a7e",
   "metadata": {},
   "outputs": [],
   "source": [
    "# CHANGE ME\n",
    "idx = 120\n",
    "query = cc_raw_data[idx]['title']\n",
    "actual_text = cc_raw_data[idx]['text']\n",
    "n_pos_refs = 5\n",
    "n_neg_refs = 2 * n_pos_refs # actually will just use enough to match the pos refs, so we provide more here\n",
    "n_sents = 2"
   ]
  },
  {
   "cell_type": "code",
   "execution_count": 9,
   "id": "1522b747",
   "metadata": {},
   "outputs": [],
   "source": [
    "tokenized_query = re.split(' |\\n', query)\n",
    "neighbors = bm25.get_top_n(tokenized_query, range(len(corpus)), n=n_pos_refs)\n",
    "# scores = bm25.get_scores(tokenized_query)\n",
    "pos_refs = cc_data[neighbors]['text']\n",
    "\n",
    "neg_refs = cc_data.select([random.randint(0,len(cc_data)-1) for i in range(n_neg_refs)])\n",
    "neg_refs = [x['text'] for x in neg_refs]"
   ]
  },
  {
   "cell_type": "code",
   "execution_count": 10,
   "id": "746b7019",
   "metadata": {},
   "outputs": [
    {
     "name": "stderr",
     "output_type": "stream",
     "text": [
      "[nltk_data] Downloading package punkt to /u/mwtang/nltk_data...\n",
      "[nltk_data]   Package punkt is already up-to-date!\n"
     ]
    }
   ],
   "source": [
    "import nltk\n",
    "nltk.download('punkt')\n",
    "import nltk.data"
   ]
  },
  {
   "cell_type": "code",
   "execution_count": 52,
   "id": "8e02a3bb",
   "metadata": {},
   "outputs": [],
   "source": [
    "# CHANGE ME\n",
    "ref_epochs = 10\n",
    "ref_batch_size = 8\n",
    "ref_lr = 0.001 # learning rate\n",
    "pretrained_model = 'gpt2-medium'\n",
    "cached = False\n",
    "no_cuda = False\n",
    "save_model = False\n",
    "log_interval = 10"
   ]
  },
  {
   "cell_type": "code",
   "execution_count": 95,
   "id": "d24009b4",
   "metadata": {},
   "outputs": [],
   "source": [
    "import argparse\n",
    "import csv\n",
    "import json\n",
    "import math\n",
    "import numpy as np\n",
    "import os\n",
    "import time\n",
    "import torch\n",
    "import torch.nn.functional as F\n",
    "import torch.optim\n",
    "import torch.optim as optim\n",
    "import torch.utils.data as data\n",
    "from nltk.tokenize.treebank import TreebankWordDetokenizer\n",
    "from torchtext import data as torchtext_data\n",
    "from torchtext import datasets\n",
    "from tqdm import tqdm, trange\n",
    "from transformers import BertTokenizer, BertModel\n",
    "from transformers import GPT2Tokenizer, GPT2LMHeadModel\n",
    "\n",
    "import PPLM\n",
    "from PPLM.pplm_classification_head import ClassificationHead\n",
    "from PPLM.run_pplm_discrim_train import *\n",
    "from PPLM.run_pplm import *\n",
    "import time\n",
    "\n",
    "EPSILON = 1e-10\n",
    "max_length_seq = 100"
   ]
  },
  {
   "cell_type": "code",
   "execution_count": 54,
   "id": "b90b3612",
   "metadata": {},
   "outputs": [],
   "source": [
    "device = \"cuda\" if torch.cuda.is_available() and not no_cuda else \"cpu\"\n",
    "add_eos_token = pretrained_model.startswith(\"gpt2\")\n",
    "    \n",
    "idx2class = [\"general\", \"in_topic\"]\n",
    "class2idx = {c: i for i, c in enumerate(idx2class)}\n",
    "\n",
    "discriminator = Discriminator(\n",
    "    class_size=len(idx2class),\n",
    "    pretrained_model=pretrained_model,\n",
    "    cached_mode=cached,\n",
    "    device=device\n",
    ").to(device)"
   ]
  },
  {
   "cell_type": "code",
   "execution_count": 55,
   "id": "315ac031",
   "metadata": {},
   "outputs": [],
   "source": [
    "discriminator_meta = {\n",
    "    \"class_size\": len(idx2class),\n",
    "    \"embed_size\": discriminator.embed_size,\n",
    "    \"pretrained_model\": pretrained_model,\n",
    "    \"class_vocab\": class2idx,\n",
    "    \"default_class\": 0,\n",
    "}"
   ]
  },
  {
   "cell_type": "code",
   "execution_count": 56,
   "id": "45a75734",
   "metadata": {},
   "outputs": [],
   "source": [
    "sent_tokenizer = nltk.data.load('tokenizers/punkt/english.pickle')"
   ]
  },
  {
   "cell_type": "code",
   "execution_count": 57,
   "id": "9725229a",
   "metadata": {},
   "outputs": [],
   "source": [
    "# turn docs into a list of triples (or groups of n_sents) of sentences in those docs\n",
    "def get_sent_groups(refs):\n",
    "    ref_X = []\n",
    "    for x in refs:\n",
    "        sents = sent_tokenizer.tokenize(x)\n",
    "        sent_groups = [' '.join(sents[i:i+n_sents]) for i in range(0, len(sents), n_sents)]\n",
    "        ref_X.extend(sent_groups)\n",
    "    return ref_X\n",
    "\n",
    "def create_dataset(pos_refs, neg_refs):\n",
    "    # turn positive and negative docs into a single list of groups of sentences\n",
    "    ref_X_pos = get_sent_groups(pos_refs)\n",
    "    ref_X_neg = get_sent_groups(neg_refs)\n",
    "    ref_X = ref_X_pos + ref_X_neg\n",
    "    ref_y = [1] * len(ref_X_pos) + [0] * len(ref_X_neg)\n",
    "    n_pos = len(ref_X_pos)\n",
    "    \n",
    "    # TODO remove this flakiness\n",
    "    assert len(ref_X) >= 2*n_pos\n",
    "        \n",
    "    ref_X = ref_X[:2*n_pos] # balance pos and neg\n",
    "    ref_y = ref_y[:2*n_pos] # balance pos and neg\n",
    "\n",
    "    # randomize\n",
    "    perm = np.random.permutation(len(ref_X))\n",
    "    ref_X = np.array(ref_X)[perm]\n",
    "    ref_y = np.array(ref_y)[perm]\n",
    "\n",
    "    # convert dataset to tensors\n",
    "    n_examples = len(ref_X)\n",
    "    ref_X_tensor = []\n",
    "    ref_y_tensor = []\n",
    "    for i in range(len(ref_X)):\n",
    "        seq = discriminator.tokenizer.encode(ref_X[i])\n",
    "        if len(seq) >= max_length_seq:\n",
    "            print(\"Line {} is longer than maximum length {}, as it has length {}, truncating\".format(\n",
    "                i, max_length_seq, len(seq)\n",
    "            ))\n",
    "            seq = seq[:max_length_seq]\n",
    "        if add_eos_token:\n",
    "            seq = [50256] + seq\n",
    "        seq = torch.tensor(\n",
    "            seq, device=device, dtype=torch.long\n",
    "        )\n",
    "    #     else:\n",
    "    #         print(\"Line {} is longer than maximum length {}\".format(\n",
    "    #             i, max_length_seq\n",
    "    #         ))\n",
    "    #         continue\n",
    "        ref_X_tensor.append(seq)\n",
    "        ref_y_tensor.append(ref_y[i])\n",
    "\n",
    "    n_examples = len(ref_X_tensor) # may be less than before\n",
    "    print('final number of examples =', n_examples)\n",
    "    \n",
    "    return Dataset(ref_X_tensor, ref_y_tensor)"
   ]
  },
  {
   "cell_type": "code",
   "execution_count": 58,
   "id": "d2f8d355",
   "metadata": {},
   "outputs": [],
   "source": [
    "test_pos_refs = [actual_text]\n",
    "test_neg_refs = cc_data.select([random.randint(0,len(cc_data)-1) for i in range(n_neg_refs)])\n",
    "test_neg_refs = [x['text'] for x in test_neg_refs]\n",
    "\n",
    "def get_dataloaders(batch_size=ref_batch_size):    \n",
    "    train_dataset = create_dataset(pos_refs, neg_refs)\n",
    "    train_loader = torch.utils.data.DataLoader(dataset=train_dataset,\n",
    "                                           batch_size=batch_size,\n",
    "                                           shuffle=True,\n",
    "                                           collate_fn=collate_fn)\n",
    "\n",
    "    test_dataset = create_dataset(test_pos_refs, test_neg_refs)\n",
    "    test_loader = torch.utils.data.DataLoader(dataset=test_dataset,\n",
    "                                              batch_size=batch_size,\n",
    "                                              collate_fn=collate_fn)\n",
    "    return train_loader, test_loader"
   ]
  },
  {
   "cell_type": "code",
   "execution_count": 59,
   "id": "e89001e0",
   "metadata": {
    "scrolled": false
   },
   "outputs": [],
   "source": [
    "def train_discrim(discrim, train_loader, test_loader, lr=ref_lr, epochs=ref_epochs):\n",
    "    start = time.time()\n",
    "    optimizer = optim.Adam(discrim.parameters(), lr=lr)\n",
    "    test_losses = []\n",
    "    test_accuracies = []\n",
    "\n",
    "    for epoch in range(epochs):\n",
    "        start = time.time()\n",
    "        print(\"\\nEpoch\", epoch + 1)\n",
    "\n",
    "        train_epoch(\n",
    "            discriminator=discrim,\n",
    "            data_loader=train_loader,\n",
    "            optimizer=optimizer,\n",
    "            epoch=epoch,\n",
    "            log_interval=log_interval,\n",
    "            device=device\n",
    "        )\n",
    "        test_loss, test_accuracy = evaluate_performance(\n",
    "            data_loader=test_loader,\n",
    "            discriminator=discrim,\n",
    "            device=device\n",
    "        )\n",
    "\n",
    "        end = time.time()\n",
    "        print(\"Epoch took: {:.3f}s\".format(end - start))\n",
    "\n",
    "        test_losses.append(test_loss)\n",
    "        test_accuracies.append(test_accuracy)\n",
    "\n",
    "        print(\"\\nExample prediction\")\n",
    "        predict(example_sentence, discrim, idx2class,\n",
    "                cached=cached, device=device)\n",
    "\n",
    "    #     if save_model:\n",
    "    #         # torch.save(discriminator.state_dict(),\n",
    "    #         #           \"{}_discriminator_{}.pt\".format(\n",
    "    #         #               args.dataset, epoch + 1\n",
    "    #         #               ))\n",
    "    #         torch.save(discriminator.get_classifier().state_dict(),\n",
    "    #                    classifier_head_fp_pattern.format(epoch + 1))\n",
    "\n",
    "    min_loss = float(\"inf\")\n",
    "    min_loss_epoch = 0\n",
    "    max_acc = 0.0\n",
    "    max_acc_epoch = 0\n",
    "    print(\"Test performance per epoch\")\n",
    "    print(\"epoch\\tloss\\tacc\")\n",
    "    for e, (loss, acc) in enumerate(zip(test_losses, test_accuracies)):\n",
    "        print(\"{}\\t{}\\t{}\".format(e + 1, loss, acc))\n",
    "        if loss < min_loss:\n",
    "            min_loss = loss\n",
    "            min_loss_epoch = e + 1\n",
    "        if acc > max_acc:\n",
    "            max_acc = acc\n",
    "            max_acc_epoch = e + 1\n",
    "    print(\"Min loss: {} - Epoch: {}\".format(min_loss, min_loss_epoch))\n",
    "    print(\"Max acc: {} - Epoch: {}\".format(max_acc, max_acc_epoch))"
   ]
  },
  {
   "cell_type": "code",
   "execution_count": 60,
   "id": "2912094e",
   "metadata": {},
   "outputs": [],
   "source": [
    "def reset_weights(discrim):\n",
    "    discrim.get_classifier().mlp.reset_parameters()"
   ]
  },
  {
   "cell_type": "code",
   "execution_count": 66,
   "id": "cec32802",
   "metadata": {},
   "outputs": [],
   "source": [
    "test_pos_sents = get_sent_groups(test_pos_refs)\n",
    "test_neg_sents = get_sent_groups(test_neg_refs)\n",
    "\n",
    "def eval_discrim(discrim):\n",
    "    print('discriminator predictions for ground truth:')\n",
    "    for x in test_pos_sents:\n",
    "        print(x)\n",
    "        print(discrim.predict(x))\n",
    "\n",
    "    print('discriminator predictions for random:')\n",
    "    for x in test_neg_sents:\n",
    "        print(x)\n",
    "        print(discrim.predict(x))"
   ]
  },
  {
   "cell_type": "code",
   "execution_count": 62,
   "id": "b2bb5554",
   "metadata": {},
   "outputs": [],
   "source": [
    "# CHANGE ME (AGAIN, for easy tuning)\n",
    "ref_epochs = 10\n",
    "ref_batch_size = 8\n",
    "ref_lr = 0.001 # learning rate"
   ]
  },
  {
   "cell_type": "code",
   "execution_count": 63,
   "id": "762c01a0",
   "metadata": {},
   "outputs": [
    {
     "name": "stdout",
     "output_type": "stream",
     "text": [
      "Line 18 is longer than maximum length 100, as it has length 108, truncating\n",
      "Line 33 is longer than maximum length 100, as it has length 131, truncating\n",
      "Line 50 is longer than maximum length 100, as it has length 107, truncating\n",
      "Line 67 is longer than maximum length 100, as it has length 111, truncating\n",
      "final number of examples = 84\n",
      "final number of examples = 42\n",
      "\n",
      "Epoch 1\n",
      "Train Epoch: 1 [8/84 (10%)]\tLoss: 1.531258\n",
      "Train Epoch: 1 [84/84 (100%)]\tLoss: 1.315004\n",
      "Performance on test set: Average loss: 0.7843, Accuracy: 21/42 (50%)\n",
      "Epoch took: 0.868s\n",
      "\n",
      "Example prediction\n",
      "Input sentence: This is incredible! I love it, this is the best chicken I have ever had.\n",
      "Predictions: general: 0.2880, in_topic: 0.7120\n",
      "\n",
      "Epoch 2\n",
      "Train Epoch: 2 [8/84 (10%)]\tLoss: 1.128045\n",
      "Train Epoch: 2 [84/84 (100%)]\tLoss: 0.427830\n",
      "Performance on test set: Average loss: 0.5528, Accuracy: 26/42 (62%)\n",
      "Epoch took: 0.841s\n",
      "\n",
      "Example prediction\n",
      "Input sentence: This is incredible! I love it, this is the best chicken I have ever had.\n",
      "Predictions: general: 0.7287, in_topic: 0.2713\n",
      "\n",
      "Epoch 3\n",
      "Train Epoch: 3 [8/84 (10%)]\tLoss: 0.527273\n",
      "Train Epoch: 3 [84/84 (100%)]\tLoss: 0.222698\n",
      "Performance on test set: Average loss: 0.4831, Accuracy: 36/42 (86%)\n",
      "Epoch took: 0.843s\n",
      "\n",
      "Example prediction\n",
      "Input sentence: This is incredible! I love it, this is the best chicken I have ever had.\n",
      "Predictions: general: 0.4866, in_topic: 0.5134\n",
      "\n",
      "Epoch 4\n",
      "Train Epoch: 4 [8/84 (10%)]\tLoss: 0.435512\n",
      "Train Epoch: 4 [84/84 (100%)]\tLoss: 0.203542\n",
      "Performance on test set: Average loss: 0.4295, Accuracy: 38/42 (90%)\n",
      "Epoch took: 0.838s\n",
      "\n",
      "Example prediction\n",
      "Input sentence: This is incredible! I love it, this is the best chicken I have ever had.\n",
      "Predictions: general: 0.5592, in_topic: 0.4408\n",
      "\n",
      "Epoch 5\n",
      "Train Epoch: 5 [8/84 (10%)]\tLoss: 0.352129\n",
      "Train Epoch: 5 [84/84 (100%)]\tLoss: 0.121755\n",
      "Performance on test set: Average loss: 0.4117, Accuracy: 37/42 (88%)\n",
      "Epoch took: 0.840s\n",
      "\n",
      "Example prediction\n",
      "Input sentence: This is incredible! I love it, this is the best chicken I have ever had.\n",
      "Predictions: general: 0.4888, in_topic: 0.5112\n",
      "\n",
      "Epoch 6\n",
      "Train Epoch: 6 [8/84 (10%)]\tLoss: 0.380363\n",
      "Train Epoch: 6 [84/84 (100%)]\tLoss: 0.183185\n",
      "Performance on test set: Average loss: 0.3933, Accuracy: 37/42 (88%)\n",
      "Epoch took: 0.848s\n",
      "\n",
      "Example prediction\n",
      "Input sentence: This is incredible! I love it, this is the best chicken I have ever had.\n",
      "Predictions: general: 0.4796, in_topic: 0.5204\n",
      "\n",
      "Epoch 7\n",
      "Train Epoch: 7 [8/84 (10%)]\tLoss: 0.188599\n",
      "Train Epoch: 7 [84/84 (100%)]\tLoss: 0.209858\n",
      "Performance on test set: Average loss: 0.3847, Accuracy: 37/42 (88%)\n",
      "Epoch took: 0.844s\n",
      "\n",
      "Example prediction\n",
      "Input sentence: This is incredible! I love it, this is the best chicken I have ever had.\n",
      "Predictions: general: 0.4396, in_topic: 0.5604\n",
      "\n",
      "Epoch 8\n",
      "Train Epoch: 8 [8/84 (10%)]\tLoss: 0.166604\n",
      "Train Epoch: 8 [84/84 (100%)]\tLoss: 0.094818\n",
      "Performance on test set: Average loss: 0.3638, Accuracy: 37/42 (88%)\n",
      "Epoch took: 0.865s\n",
      "\n",
      "Example prediction\n",
      "Input sentence: This is incredible! I love it, this is the best chicken I have ever had.\n",
      "Predictions: general: 0.4768, in_topic: 0.5232\n",
      "\n",
      "Epoch 9\n",
      "Train Epoch: 9 [8/84 (10%)]\tLoss: 0.158024\n",
      "Train Epoch: 9 [84/84 (100%)]\tLoss: 0.047424\n",
      "Performance on test set: Average loss: 0.3690, Accuracy: 37/42 (88%)\n",
      "Epoch took: 0.824s\n",
      "\n",
      "Example prediction\n",
      "Input sentence: This is incredible! I love it, this is the best chicken I have ever had.\n",
      "Predictions: general: 0.4127, in_topic: 0.5873\n",
      "\n",
      "Epoch 10\n",
      "Train Epoch: 10 [8/84 (10%)]\tLoss: 0.115203\n",
      "Train Epoch: 10 [84/84 (100%)]\tLoss: 0.216945\n",
      "Performance on test set: Average loss: 0.3538, Accuracy: 37/42 (88%)\n",
      "Epoch took: 0.821s\n",
      "\n",
      "Example prediction\n",
      "Input sentence: This is incredible! I love it, this is the best chicken I have ever had.\n",
      "Predictions: general: 0.4328, in_topic: 0.5672\n",
      "Test performance per epoch\n",
      "epoch\tloss\tacc\n",
      "1\t0.7842505602609544\t0.5\n",
      "2\t0.5528084181603932\t0.6190476190476191\n",
      "3\t0.4831000083968753\t0.8571428571428571\n",
      "4\t0.4295304602100736\t0.9047619047619048\n",
      "5\t0.4117429738953\t0.8809523809523809\n",
      "6\t0.39326304481143043\t0.8809523809523809\n",
      "7\t0.3847028258300963\t0.8809523809523809\n",
      "8\t0.36378506819407147\t0.8809523809523809\n",
      "9\t0.3690383562019893\t0.8809523809523809\n",
      "10\t0.3538228202433813\t0.8809523809523809\n",
      "Min loss: 0.3538228202433813 - Epoch: 10\n",
      "Max acc: 0.9047619047619048 - Epoch: 4\n",
      "discriminator predictions for ground truth:\n",
      "Duluth police responded to a 911 call reporting shots fired at 510 E. 11th Street at about 2 p.m. Tuesday. The victim was taken from the home on a gurney, witnesses said, and transferred by Gold Cross Ambulance to a local hospital.\n",
      "[0.057100428995520626, 0.9428995859396738]\n",
      "Police confirmed just before 5 p.m. that the victim had died. Police remained on the scene into the evening hours, and at 8 p.m. Duluth police reported that its officers — as well as several agents from the federal Bureau of Alcohol, Tobacco, Firearms and Explosives — were executing search warrants in connection with the case.\n",
      "[0.0811589175165375, 0.9188410401382061]\n",
      "A \"person of interest\" had been detained but no arrests had been made as of 8 p.m., Duluth police said, with the investigation expected to continue overnight. Mayor Emily Larson said in a statement Tuesday night that she wanted to assure the Duluth community that the police department is \"fully engaged\" and has responded swiftly to make progress to resolve the case.\n",
      "[0.13800872769871644, 0.861991302344155]\n",
      "\"When a person is harmed in our community, our whole community is harmed. Today, tragically so.\n",
      "[0.22195367848293668, 0.7780462876098853]\n",
      "Our condolences go to the victim's family and friends. As a parent, this is simply heartbreaking news,\" she said in the statement.\n",
      "[0.11290189438252143, 0.8870980884743939]\n",
      "Duluth Police Chief Mike Tusken said that preliminary information indicated that the incident may have been related to a home invasion or robbery. The shooting took place in a small, single-story house that neighbors said has been college rental property for several years.\n",
      "[0.10677324373272201, 0.8932267791840643]\n",
      "Eleventh Street is a dead-end in that area, just off Central Entrance, below Skyline Parkway and two blocks west of Myers-Wilkins Elementary School. School district officials said the school was placed in a precautionary lockdown on request of police after the shooting.\n",
      "[0.18536549424380128, 0.81463454753928]\n",
      "School was already out by that time but some students still were in the building for extracurricular activities. More than 20 squad cars converged at the scene within minutes of the first 911 call, with many officers searching backyards, alleys and woods with their guns drawn.\n",
      "[0.20031901378035596, 0.7996809908694468]\n",
      "Several dogs also were used to search for a suspect outside the home. Agents from the U.S. Border Patrol and Minnesota State Patrol also were at the scene.\n",
      "[0.09816236147196188, 0.9018376580881309]\n",
      "Residents interviewed during the incident said the neighborhood has mostly avoided serious violence. \"I've lived here since 1958 and we've never had anything like this before.\n",
      "[0.22051076751639104, 0.7794892774621509]\n",
      "We've had some car break-ins, but no shooting before,\" said Ken Cusick, who lives just down the block and across the street from the house where the shooting took place. Klay Longstreet said he's lived on 11th Street for nearly 20 years.\n",
      "[0.1757940424481791, 0.8242059199089897]\n",
      "\"We have a lot of rentals on this block, so there are parties, the usual college stuff, but nothing serious,\" he said. Theresa Wanless said she lives just two blocks from the shooting.\n",
      "[0.2930237454424653, 0.7069762848397493]\n",
      "She said she still trusts law enforcement to find the guilty parties and keep control of the city's streets. \"But it's just two blocks from the school.\n",
      "[0.2733904251253576, 0.7266096423083069]\n",
      "And there have been lots of shootings. It's very scary,\" she said.\n",
      "[0.21632622442178345, 0.7836737867662059]\n",
      "Wanless said she's not convinced that the shootings are unrelated or that city officials are correct saying it's not part of a larger problem. \"Now, after this, being so close to my home, I'm not so sure,\" she said, lamenting the lack of information released after each shooting.\n",
      "[0.2657032803810729, 0.7342966678771341]\n",
      "\"It's unfortunate we only get short answers\" from police, she said. The case would mark the first homicide in Duluth since October, when 47-year-old Eric Wayne Burns was fatally shot outside a Lincoln Park bar.\n",
      "[0.3584204924719822, 0.6415795185094554]\n",
      "Aaron Demetrius Humphreys, 42, has been charged with intentional second-degree murder in that case. It's also the second shooting death in the Twin Ports this year.\n",
      "[0.28373999791424964, 0.7162600057781011]\n",
      "Kyle Androsky, 21, was killed outside a Superior bar on the morning of Jan. 1, with his brother also suffering a gunshot wound. Authorities have issued an arrest warrant for 25-year-old Jamar Maurice Smith, who remains in custody in Minnesota, but have not charged him or anyone else with the actual shooting.\n",
      "[0.30042458623356033, 0.6995754101653134]\n",
      "Tuesday's shooting is the sixth in Duluth in less than four weeks. Victims have suffered varying levels of injuries, but until Tuesday's shooting no deaths had been reported.\n",
      "[0.2450551932346597, 0.7549448229884894]\n",
      "Police have said the incidents are an \"anomaly,\" brought on by a number of factors, including increased availability of firearms, but have said there are no clear connections between any of the incidents. \"We haven't seen a spike of shootings like this in my career,\" said Tusken, who has been with the department for 25 years, shortly after Tuesday's incident was reported.\n",
      "[0.15878834312975695, 0.8412116493925558]\n",
      "Lisa Kaczke contributed to this report.\n"
     ]
    },
    {
     "name": "stdout",
     "output_type": "stream",
     "text": [
      "[0.22033634388300816, 0.7796636657805581]\n",
      "discriminator predictions for random:\n",
      "Posted by admin on January 2, 2017\n",
      "Leave a Reply\n",
      "You must be logged in to post a comment.\n",
      "[0.7619882212593441, 0.2380117928647318]\n",
      "Story highlights New report says United States failed to do its \"homework\" before airstrikes on civilians\n",
      "Syrian reports say mosque hit; US says al Qaeda meeting targeted\n",
      "(CNN) A new report suggests American forces failed to take necessary precautions to avoid dropping a pair of bombs on a Northern Syria mosque full of hundreds of worshipers.\n",
      "Syrians said the US airstrikes hit a western Aleppo mosque on March 16 , killing at least 40 worshipers and injuring dozens more. The US said the bombings targeted a meeting hall hosting al Qaeda terrorists.\n",
      "Interviews with locals and photographs and video of the building in question prove it was a well-known mosque that hosted lectures every Thursday between sunset and evening prayers, according to a new Human Rights Watch report.\n",
      "Syria Civil Defense volunteers dig through rubble after a reported airstrike Thursday on al-Jena, Syria.\n",
      "Any attempt to gather information about the building would have revealed that it was a popular gathering spot for residents at the time of the intended attack, Human Rights Watch said. Furthermore, the investigation found no evidence to support the US claim that members of al Qaeda or any other armed group were meeting in the mosque, the report said.\n",
      "\"The US seems to have gotten several things fundamentally wrong in this attack, and dozens of civilians paid the price,\" Ole Solvang, deputy emergencies director at Human Rights Watch, said in a statement. \"The US authorities need to figure out what went wrong, start doing their homework before they launch attacks, and make sure it doesn't happen again.\"\n",
      "Read More\n",
      "[0.2967924646892072, 0.7032075656839986]\n",
      "THIRUVANANTHAPURAM: BJP state general secretary K Surendran on Saturday gave his statement in connection with the Vigilance case against Health and Social Justice Minister K K Shylaja’s alleged corruption in availing of treatment expense. While the statement was recorded, Surendran produced certain documents as evidence. He also produced the copy of the bills for the spectacles and the food items claimed by the minister and officials.\n",
      "[0.7710034074308529, 0.2289966511700915]\n",
      "Thirteen years ago the New England Patriots secured their third Super Bowl title in four years with victory against the Philadelphia Eagles. It was a win demonstrative of the dynasty that, since 2001, has been forged in Foxborough.\n",
      "They suit up again, their eighth Super Bowl appearance this century, in Minnesota on Sunday. And, just as they did in February 2005, they again face the Eagles in search of a third Super Bowl win in four seasons.\n",
      "This time the goal will be ring number six of the Tom Brady – Bill Belichick era. The Eagles outclassed the Minnesota Vikings 38-7 in the NFC Championship game to deny the Vikings the opportunity of playing in a home Super Bowl. New England, by contrast, conjured up a trademark fourth-quarter comeback to recover from a 20-10 deficit, before disposing of the Jacksonville Jaguars 24-20.\n",
      "The Patriots unsurprisingly enter Super Bowl Sunday as slight favourites in their quest to become the first side to retain a Super Bowl title since they last did it in 2005. But Doug Pederson’s Eagles will be no pushovers.\n",
      "Most sides would have been flattened by the crushing blow of losing a starting quarterback to a season-ending injury as late as December. Especially when that quarterback happens to be Carson Wentz who had put together an MVP-calibre season with 33 touchdown passes in 13 games.\n",
      "Little wonder then that the word destiny has already been bandied about in relation to the Eagles. Nick Foles has been nothing short of outstanding in Wentz’s absence. Zero interceptions, a completion percentage of close to 78 per cent and an astonishing passer rating of 122.1 are, quite simply, staggering play-off statistics.\n",
      "In the backfield, the Eagles also have a useful combination of runners in British-born Jay Ajayi and former Patriot LeGarrette Blount, the workhorse back, who is already a two-time champion.\n",
      "With a stable of backs though that include the dynamic Dion Lewis, Super Bowl LI hero James White, and red-zone nightmare Rex Burkhead, the Patriots match up well. Against a stingy Eagles run defense, expect plenty of screens and check-down passes if New England fail to establish the run early.\n",
      "Look out too for the respective tight ends: Zach Ertz for the Eagles and Rob Gronkowski for the Patriots. Both players are mismatches in coverage owing to their size but are also agile enough to provide a deep-ball threat.\n",
      "And that’s not forgetting Patriots wide receiver Danny Amendola. With the ability to make plays from the slot and in the return game, Amendola has developed a reputation for putting in clutch performances in the play-offs.\n",
      "Philadelphia have quite the array of weapons at their disposal too, and the necessary depth should the Super Bowl descend into a shootout. Along with Ertz, expect wideouts Nelson Agholor and Alshon Jeffrey to feature heavily.\n",
      "The play in the trenches, however, will be where this game is won and lost, so watch the line of scrimmage closely. Philadelphia have protected Foles well, but they will need to collapse the pocket and bring the heat on his opposite number Brady if they hope to win this one.\n",
      "Eagles defensive coordinator Jim Schwartz has revived a car-crash defense from the Chip Kelly era and turned them into one of the most formidable units in the league. Operating a 4-3 scheme, they have given up just 17 points in two play-off games and were ranked first against the run and fourth in points and yards conceded in 2017.\n",
      "Schwartz is not short of playmakers, in interior lineman Fletcher Cox and defensive end Brandon Graham, either. Should Philadelphia’s defense rein in the Patriots early, and even provide the platform for their offense to play with a lead, then they will have every chance of delivering an upset.\n",
      "So as the Patriots look to add another footnote to one of sport’s greatest ever dynasties, Philadelphia go in search of a maiden title. A dynasty meets destiny? Whatever the outcome, this is something to relish.\n",
      "Image Courtesy of LearningLark\n",
      "[0.9236951822886279, 0.07630481274095025]\n",
      "Never say never! Jennifer Aniston certainly didn’t deny that a Friends reunion rumor! The 48-year-old actress stopped by The Ellen DeGeneres Show on Friday, February 2, and said a reboot of the show could happen. “Anything is a possibility, Ellen,” Aniston said.\n",
      "Watch the video above and don’t forget to subscribe to our YouTube Channel!\n",
      "[0.7661560324950358, 0.23384394744608306]\n",
      "MIAMI (AP) – Officials were so concerned about the mental stability of the student accused of last month's Florida school massacre that they decided he should be forcibly committed.\n",
      "But the recommendation was never acted upon.\n",
      "A commitment under the law would have made it more difficult if not impossible for Nikolas Cruz to obtain a gun legally.\n",
      "Cruz is accused of the shooting rampage that killed 14 students and three school employees at Marjory Stoneman Douglas High School in Parkland on Feb. 14. In addition, 17 people were wounded.\n",
      "But more than a year earlier, documents in the criminal case against Nikolas Cruz and obtained by The Associated Press show school officials and a sheriff's deputy recommended in September 2016 that Cruz be involuntarily committed for a mental evaluation.\n",
      "The documents, which are part of Cruz's criminal case in the shooting, show that he had written the word \"kill\" in a notebook, told a classmate that he wanted to buy a gun and use it, and had cut his arm supposedly in anger because he had broken up with a girlfriend. He also told another student he had drunk gasoline and was throwing up. Calls had even been made to the FBI about the possibility of Cruz using a gun at school.\n",
      "The documents were provided by a psychological assessment service initiated by Cruz's mother called Henderson Behavioral Health. The documents show a high school resource officer who was also a sheriff's deputy and two school counselors recommended in September 2016 that Cruz be committed for mental evaluation under Florida's Baker Act. That law allows for involuntary commitment for mental health examination for at least three days.\n",
      "Such an involuntary commitment would also have been a high obstacle if not a complete barrier to legally obtaining a firearm, such as the AR-15 rifle used in the Stoneman Douglas massacre on Feb. 14, authorities say.\n",
      "There is no evidence Cruz was ever committed. Coincidentally, the school resource officer who recommended that Cruz be \"Baker Acted\" was Scot Peterson – the same Broward Sheriff's Office deputy who resigned amid accusations he failed to respond to the shooting by staying outside the building where the killings occurred.\n",
      "David S. Weinstein, a former federal prosecutor, said that an involuntary commitment would have been a huge red flag had Cruz attempted to buy a firearm legally.\n",
      "[0.8319320473043461, 0.16806794518356033]\n",
      "Nigerian singer, Kechi Okwuchi, is set to release her debut album titled “Don’t You Dare”.\n",
      "Okwuchi, is one of the two survivors in the Sosoliso Airlines Flight 1145 crash on December 10, 2005 that claimed 107 lives, 60 of which were her school mates from Loyola Jesuit College.\n",
      "She made the “Big announcement” on her official twitter account while urging fans to anticipate the release.\n",
      "@kechi “Debut single ‘Don’t You Dare’ dropping next Friday, July 13. 10 day countdown begins now”.\n",
      "Kechi took part in the twelfth season of the famous America’s Got Talent hunt show in 2017, finishing off as a finalist.\n",
      "The music sensation has gone on to graduate from the University of St Thomas, Texas, United States of America.\n",
      "[0.5512195660729525, 0.4487805018931508]\n",
      "Jordan Wilimovsky will not compete at the U.S. World Championship Trials this summer, as reported by Swimming World earlier today.\n",
      "Wilimovsky was expected to run away from the field in the men’s 1500 this year, especially with the absence of Connor Jaeger and Michael McBroom. His best of 14:45.03, done at the Olympics last summer when he finished 4th, is nearly 20 seconds clear of the next fastest active American. However, after doing both pool and open water in Rio, he has decided to take a step back from the pool for the year.\n",
      "He told Swimming World:\n",
      "“I decided to take off pool Nationals,” he said. “It’s the first year of the quad, so it’s a little bit more relaxed. Just decided to focus on open water this summer, hopefully put up a good 10k at Worlds and then next year start focusing on the 1500 and 10k again for Pan Pacs.”\n",
      "Two years ago in Kazan, when Wilimovsky was solely focusing on open water, he took the gold medal in the men’s 10K. Last summer, shortly after competing in the pool, he took 5th in a very close race.\n",
      "With Wilimovsky out, we’ve had to adjust our picks in the men’s distance events. Initially we had him 1st in the mile and 3rd in the 800, but with this change True Sweetser is now our pick for the second Worlds spot in the 1500, along with Robert Finke. Check out our updates picks in the 1500 and 800.\n",
      "[0.8848145254357356, 0.11518551779448238]\n",
      "Login Email Address: Password: Already a paid subscriber but not registered for online access yet? For instructions on how to get premium web access, click here. Forgot your password?\n",
      "Share this: Email\n",
      "Print\n",
      "Facebook\n",
      "LinkedIn\n",
      "Twitter\n",
      "Google\n",
      "A lawyer who ran a $46 million investment scheme exploiting terminally ill people is fighting the government’s attempt to recover some of the money he’s been ordered to pay back. Joseph Caramadre, who is serving time in a federal prison in Massachusetts, appeared in U.S. District Court in Providence via videoconference on Sept. 28. He was ordered ...\n",
      "[0.7543090860018515, 0.24569089935327965]\n",
      "In 2016 newcomer Courtney Cole released her new single, “Free 99,” she’s been on tour with Miranda Lambert as part of her Roadside Bars & Pink Guitars Tour and opened for acts like Kenny Chesney, Chris Young and Kip Moore. After a busy 2016, the Louisiana native is looking forward to the new year and what’s to come.\n",
      "“2017 looks so fun,” Courtney tells Nash Country Daily. “I’m so excited, we’re booking a bunch of shows right now. I love traveling. We’re playing Stagecoach [Festival] this year, which is a dream come true for me. I love California. I’m a cowgirl at heart. So we’re doing that, then I’m releasing an EP. Just new music and lots of performing.”\n",
      "With 2017 in full swing, NCD sat down with the newcomer to learn more about her and to find out a few of her favorite things.\n",
      "Favorite color?\n",
      "Blue.\n",
      "Favorite ice cream?\n",
      "Chocolate chip cookie dough.\n",
      "Favorite flower?\n",
      "Tulip. No lily.\n",
      "Favorite song?\n",
      "Right now, I love to listen to Jon Bellion.\n",
      "Favorite movie?\n",
      "The Holiday.\n",
      "Favorite item of clothing?\n",
      "Yoga pants.\n",
      "Favorite drink?\n",
      "Margarita.\n",
      "Favorite food?\n",
      "Mexican food.\n",
      "Favorite actor/actress?\n",
      "Julia Roberts.\n",
      "Favorite board game?\n",
      "Cards Against Humanity. Fave.\n",
      "Favorite number?\n",
      "Eight.\n",
      "Favorite day of the week?\n",
      "Sunday.\n",
      "Favorite season?\n",
      "Summer.\n",
      "Favorite sport?\n",
      "Football, just because of nachos.\n",
      "Favorite scent?\n",
      "Whatever lotion I’m wearing. Rose something.\n",
      "[0.6741581601362509, 0.32584181187059946]\n"
     ]
    }
   ],
   "source": [
    "train_loader, test_loader = get_dataloaders(batch_size=ref_batch_size)\n",
    "reset_weights(discriminator)\n",
    "train_discrim(discriminator, train_loader, test_loader, lr=ref_lr, epochs=ref_epochs)"
   ]
  },
  {
   "cell_type": "code",
   "execution_count": 67,
   "id": "8639285d",
   "metadata": {
    "scrolled": false
   },
   "outputs": [
    {
     "name": "stdout",
     "output_type": "stream",
     "text": [
      "discriminator predictions for ground truth:\n",
      "Duluth police responded to a 911 call reporting shots fired at 510 E. 11th Street at about 2 p.m. Tuesday. The victim was taken from the home on a gurney, witnesses said, and transferred by Gold Cross Ambulance to a local hospital.\n",
      "[0.057100428995520626, 0.9428995859396738]\n",
      "Police confirmed just before 5 p.m. that the victim had died. Police remained on the scene into the evening hours, and at 8 p.m. Duluth police reported that its officers — as well as several agents from the federal Bureau of Alcohol, Tobacco, Firearms and Explosives — were executing search warrants in connection with the case.\n",
      "[0.0811589175165375, 0.9188410401382061]\n",
      "A \"person of interest\" had been detained but no arrests had been made as of 8 p.m., Duluth police said, with the investigation expected to continue overnight. Mayor Emily Larson said in a statement Tuesday night that she wanted to assure the Duluth community that the police department is \"fully engaged\" and has responded swiftly to make progress to resolve the case.\n",
      "[0.13800872769871644, 0.861991302344155]\n",
      "\"When a person is harmed in our community, our whole community is harmed. Today, tragically so.\n",
      "[0.22195367848293668, 0.7780462876098853]\n",
      "Our condolences go to the victim's family and friends. As a parent, this is simply heartbreaking news,\" she said in the statement.\n",
      "[0.11290189438252143, 0.8870980884743939]\n",
      "Duluth Police Chief Mike Tusken said that preliminary information indicated that the incident may have been related to a home invasion or robbery. The shooting took place in a small, single-story house that neighbors said has been college rental property for several years.\n",
      "[0.10677324373272201, 0.8932267791840643]\n",
      "Eleventh Street is a dead-end in that area, just off Central Entrance, below Skyline Parkway and two blocks west of Myers-Wilkins Elementary School. School district officials said the school was placed in a precautionary lockdown on request of police after the shooting.\n",
      "[0.18536549424380128, 0.81463454753928]\n",
      "School was already out by that time but some students still were in the building for extracurricular activities. More than 20 squad cars converged at the scene within minutes of the first 911 call, with many officers searching backyards, alleys and woods with their guns drawn.\n",
      "[0.20031901378035596, 0.7996809908694468]\n",
      "Several dogs also were used to search for a suspect outside the home. Agents from the U.S. Border Patrol and Minnesota State Patrol also were at the scene.\n",
      "[0.09816236147196188, 0.9018376580881309]\n",
      "Residents interviewed during the incident said the neighborhood has mostly avoided serious violence. \"I've lived here since 1958 and we've never had anything like this before.\n",
      "[0.22051076751639104, 0.7794892774621509]\n",
      "We've had some car break-ins, but no shooting before,\" said Ken Cusick, who lives just down the block and across the street from the house where the shooting took place. Klay Longstreet said he's lived on 11th Street for nearly 20 years.\n",
      "[0.1757940424481791, 0.8242059199089897]\n",
      "\"We have a lot of rentals on this block, so there are parties, the usual college stuff, but nothing serious,\" he said. Theresa Wanless said she lives just two blocks from the shooting.\n",
      "[0.2930237454424653, 0.7069762848397493]\n",
      "She said she still trusts law enforcement to find the guilty parties and keep control of the city's streets. \"But it's just two blocks from the school.\n",
      "[0.2733904251253576, 0.7266096423083069]\n",
      "And there have been lots of shootings. It's very scary,\" she said.\n",
      "[0.21632622442178345, 0.7836737867662059]\n",
      "Wanless said she's not convinced that the shootings are unrelated or that city officials are correct saying it's not part of a larger problem. \"Now, after this, being so close to my home, I'm not so sure,\" she said, lamenting the lack of information released after each shooting.\n",
      "[0.2657032803810729, 0.7342966678771341]\n",
      "\"It's unfortunate we only get short answers\" from police, she said. The case would mark the first homicide in Duluth since October, when 47-year-old Eric Wayne Burns was fatally shot outside a Lincoln Park bar.\n",
      "[0.3584204924719822, 0.6415795185094554]\n",
      "Aaron Demetrius Humphreys, 42, has been charged with intentional second-degree murder in that case. It's also the second shooting death in the Twin Ports this year.\n",
      "[0.28373999791424964, 0.7162600057781011]\n",
      "Kyle Androsky, 21, was killed outside a Superior bar on the morning of Jan. 1, with his brother also suffering a gunshot wound. Authorities have issued an arrest warrant for 25-year-old Jamar Maurice Smith, who remains in custody in Minnesota, but have not charged him or anyone else with the actual shooting.\n",
      "[0.30042458623356033, 0.6995754101653134]\n",
      "Tuesday's shooting is the sixth in Duluth in less than four weeks. Victims have suffered varying levels of injuries, but until Tuesday's shooting no deaths had been reported.\n",
      "[0.2450551932346597, 0.7549448229884894]\n",
      "Police have said the incidents are an \"anomaly,\" brought on by a number of factors, including increased availability of firearms, but have said there are no clear connections between any of the incidents. \"We haven't seen a spike of shootings like this in my career,\" said Tusken, who has been with the department for 25 years, shortly after Tuesday's incident was reported.\n",
      "[0.15878834312975695, 0.8412116493925558]\n",
      "Lisa Kaczke contributed to this report.\n",
      "[0.22033634388300816, 0.7796636657805581]\n",
      "discriminator predictions for random:\n",
      "Posted by admin on January 2, 2017\n",
      "Leave a Reply\n",
      "You must be logged in to post a comment.\n",
      "[0.7619882212593441, 0.2380117928647318]\n",
      "Story highlights New report says United States failed to do its \"homework\" before airstrikes on civilians\n",
      "Syrian reports say mosque hit; US says al Qaeda meeting targeted\n",
      "(CNN) A new report suggests American forces failed to take necessary precautions to avoid dropping a pair of bombs on a Northern Syria mosque full of hundreds of worshipers. Syrians said the US airstrikes hit a western Aleppo mosque on March 16 , killing at least 40 worshipers and injuring dozens more.\n",
      "[0.3358877858112789, 0.664112217186306]\n",
      "The US said the bombings targeted a meeting hall hosting al Qaeda terrorists. Interviews with locals and photographs and video of the building in question prove it was a well-known mosque that hosted lectures every Thursday between sunset and evening prayers, according to a new Human Rights Watch report.\n",
      "[0.2640474610596338, 0.7359525494214298]\n",
      "Syria Civil Defense volunteers dig through rubble after a reported airstrike Thursday on al-Jena, Syria. Any attempt to gather information about the building would have revealed that it was a popular gathering spot for residents at the time of the intended attack, Human Rights Watch said.\n",
      "[0.07902968949853116, 0.920970270958455]\n",
      "Furthermore, the investigation found no evidence to support the US claim that members of al Qaeda or any other armed group were meeting in the mosque, the report said. \"The US seems to have gotten several things fundamentally wrong in this attack, and dozens of civilians paid the price,\" Ole Solvang, deputy emergencies director at Human Rights Watch, said in a statement.\n",
      "[0.36753749009521125, 0.6324625348609751]\n",
      "\"The US authorities need to figure out what went wrong, start doing their homework before they launch attacks, and make sure it doesn't happen again.\" Read More\n",
      "[0.42956617925831697, 0.5704338006592093]\n",
      "THIRUVANANTHAPURAM: BJP state general secretary K Surendran on Saturday gave his statement in connection with the Vigilance case against Health and Social Justice Minister K K Shylaja’s alleged corruption in availing of treatment expense. While the statement was recorded, Surendran produced certain documents as evidence.\n",
      "[0.7451455694520744, 0.2548544786538646]\n",
      "He also produced the copy of the bills for the spectacles and the food items claimed by the minister and officials.\n",
      "[0.673104944534224, 0.3268951172308547]\n",
      "Thirteen years ago the New England Patriots secured their third Super Bowl title in four years with victory against the Philadelphia Eagles. It was a win demonstrative of the dynasty that, since 2001, has been forged in Foxborough.\n",
      "[0.9172749665622637, 0.08272497286373226]\n",
      "They suit up again, their eighth Super Bowl appearance this century, in Minnesota on Sunday. And, just as they did in February 2005, they again face the Eagles in search of a third Super Bowl win in four seasons.\n"
     ]
    },
    {
     "name": "stdout",
     "output_type": "stream",
     "text": [
      "[0.9153875673195989, 0.08461248933802615]\n",
      "This time the goal will be ring number six of the Tom Brady – Bill Belichick era. The Eagles outclassed the Minnesota Vikings 38-7 in the NFC Championship game to deny the Vikings the opportunity of playing in a home Super Bowl.\n",
      "[0.9200663138988711, 0.07993368525607926]\n",
      "New England, by contrast, conjured up a trademark fourth-quarter comeback to recover from a 20-10 deficit, before disposing of the Jacksonville Jaguars 24-20. The Patriots unsurprisingly enter Super Bowl Sunday as slight favourites in their quest to become the first side to retain a Super Bowl title since they last did it in 2005.\n",
      "[0.9461426905981044, 0.053857343180076636]\n",
      "But Doug Pederson’s Eagles will be no pushovers. Most sides would have been flattened by the crushing blow of losing a starting quarterback to a season-ending injury as late as December.\n",
      "[0.8850001006680118, 0.11499993945894428]\n",
      "Especially when that quarterback happens to be Carson Wentz who had put together an MVP-calibre season with 33 touchdown passes in 13 games. Little wonder then that the word destiny has already been bandied about in relation to the Eagles.\n",
      "[0.8493186244943878, 0.15068140941071947]\n",
      "Nick Foles has been nothing short of outstanding in Wentz’s absence. Zero interceptions, a completion percentage of close to 78 per cent and an astonishing passer rating of 122.1 are, quite simply, staggering play-off statistics.\n",
      "[0.8558695758135518, 0.14413037729935835]\n",
      "In the backfield, the Eagles also have a useful combination of runners in British-born Jay Ajayi and former Patriot LeGarrette Blount, the workhorse back, who is already a two-time champion. With a stable of backs though that include the dynamic Dion Lewis, Super Bowl LI hero James White, and red-zone nightmare Rex Burkhead, the Patriots match up well.\n",
      "[0.7891138015568044, 0.21088616844685812]\n",
      "Against a stingy Eagles run defense, expect plenty of screens and check-down passes if New England fail to establish the run early. Look out too for the respective tight ends: Zach Ertz for the Eagles and Rob Gronkowski for the Patriots.\n",
      "[0.7718649314652105, 0.228135096502924]\n",
      "Both players are mismatches in coverage owing to their size but are also agile enough to provide a deep-ball threat. And that’s not forgetting Patriots wide receiver Danny Amendola.\n",
      "[0.6643491707226471, 0.33565082704391813]\n",
      "With the ability to make plays from the slot and in the return game, Amendola has developed a reputation for putting in clutch performances in the play-offs. Philadelphia have quite the array of weapons at their disposal too, and the necessary depth should the Super Bowl descend into a shootout.\n",
      "[0.8303347485688746, 0.1696652253329456]\n",
      "Along with Ertz, expect wideouts Nelson Agholor and Alshon Jeffrey to feature heavily. The play in the trenches, however, will be where this game is won and lost, so watch the line of scrimmage closely.\n",
      "[0.8171837728397476, 0.18281621070269546]\n",
      "Philadelphia have protected Foles well, but they will need to collapse the pocket and bring the heat on his opposite number Brady if they hope to win this one. Eagles defensive coordinator Jim Schwartz has revived a car-crash defense from the Chip Kelly era and turned them into one of the most formidable units in the league.\n",
      "[0.8526740320858179, 0.14732597830263383]\n",
      "Operating a 4-3 scheme, they have given up just 17 points in two play-off games and were ranked first against the run and fourth in points and yards conceded in 2017. Schwartz is not short of playmakers, in interior lineman Fletcher Cox and defensive end Brandon Graham, either.\n",
      "[0.9220509048136822, 0.07794906812202355]\n",
      "Should Philadelphia’s defense rein in the Patriots early, and even provide the platform for their offense to play with a lead, then they will have every chance of delivering an upset. So as the Patriots look to add another footnote to one of sport’s greatest ever dynasties, Philadelphia go in search of a maiden title.\n",
      "[0.8950703199432288, 0.10492968028732702]\n",
      "A dynasty meets destiny? Whatever the outcome, this is something to relish.\n",
      "[0.6146471152985638, 0.3853528477718427]\n",
      "Image Courtesy of LearningLark\n",
      "[0.1278920637709052, 0.872107906525551]\n",
      "Never say never! Jennifer Aniston certainly didn’t deny that a Friends reunion rumor!\n",
      "[0.644575551939901, 0.35542450158296907]\n",
      "The 48-year-old actress stopped by The Ellen DeGeneres Show on Friday, February 2, and said a reboot of the show could happen. “Anything is a possibility, Ellen,” Aniston said.\n",
      "[0.69304565422661, 0.30695434338735217]\n",
      "Watch the video above and don’t forget to subscribe to our YouTube Channel!\n",
      "[0.5256001827112662, 0.4743997827253887]\n",
      "MIAMI (AP) – Officials were so concerned about the mental stability of the student accused of last month's Florida school massacre that they decided he should be forcibly committed. But the recommendation was never acted upon.\n",
      "[0.6896005456459591, 0.3103994040745858]\n",
      "A commitment under the law would have made it more difficult if not impossible for Nikolas Cruz to obtain a gun legally. Cruz is accused of the shooting rampage that killed 14 students and three school employees at Marjory Stoneman Douglas High School in Parkland on Feb. 14.\n",
      "[0.7407532167660261, 0.2592467752587547]\n",
      "In addition, 17 people were wounded. But more than a year earlier, documents in the criminal case against Nikolas Cruz and obtained by The Associated Press show school officials and a sheriff's deputy recommended in September 2016 that Cruz be involuntarily committed for a mental evaluation.\n",
      "[0.7328729365948996, 0.2671271039123856]\n",
      "The documents, which are part of Cruz's criminal case in the shooting, show that he had written the word \"kill\" in a notebook, told a classmate that he wanted to buy a gun and use it, and had cut his arm supposedly in anger because he had broken up with a girlfriend. He also told another student he had drunk gasoline and was throwing up.\n",
      "[0.7634139084013251, 0.23658607000732926]\n",
      "Calls had even been made to the FBI about the possibility of Cruz using a gun at school. The documents were provided by a psychological assessment service initiated by Cruz's mother called Henderson Behavioral Health.\n",
      "[0.5866039298075374, 0.4133961019549358]\n",
      "The documents show a high school resource officer who was also a sheriff's deputy and two school counselors recommended in September 2016 that Cruz be committed for mental evaluation under Florida's Baker Act. That law allows for involuntary commitment for mental health examination for at least three days.\n",
      "[0.8716164932476024, 0.12838349734643154]\n",
      "Such an involuntary commitment would also have been a high obstacle if not a complete barrier to legally obtaining a firearm, such as the AR-15 rifle used in the Stoneman Douglas massacre on Feb. 14, authorities say. There is no evidence Cruz was ever committed.\n",
      "[0.7795751308378696, 0.22042485227736303]\n",
      "Coincidentally, the school resource officer who recommended that Cruz be \"Baker Acted\" was Scot Peterson – the same Broward Sheriff's Office deputy who resigned amid accusations he failed to respond to the shooting by staying outside the building where the killings occurred. David S. Weinstein, a former federal prosecutor, said that an involuntary commitment would have been a huge red flag had Cruz attempted to buy a firearm legally.\n",
      "[0.6844714737200474, 0.31552853423268284]\n",
      "Nigerian singer, Kechi Okwuchi, is set to release her debut album titled “Don’t You Dare”. Okwuchi, is one of the two survivors in the Sosoliso Airlines Flight 1145 crash on December 10, 2005 that claimed 107 lives, 60 of which were her school mates from Loyola Jesuit College.\n",
      "[0.35786487371581127, 0.6421351347316239]\n",
      "She made the “Big announcement” on her official twitter account while urging fans to anticipate the release. @kechi “Debut single ‘Don’t You Dare’ dropping next Friday, July 13.\n",
      "[0.5605226233538028, 0.4394774171323349]\n",
      "10 day countdown begins now”. Kechi took part in the twelfth season of the famous America’s Got Talent hunt show in 2017, finishing off as a finalist.\n",
      "[0.7285115434790455, 0.2714884316265756]\n",
      "The music sensation has gone on to graduate from the University of St Thomas, Texas, United States of America.\n",
      "[0.68247060552643, 0.31752936777599833]\n",
      "Jordan Wilimovsky will not compete at the U.S. World Championship Trials this summer, as reported by Swimming World earlier today. Wilimovsky was expected to run away from the field in the men’s 1500 this year, especially with the absence of Connor Jaeger and Michael McBroom.\n"
     ]
    },
    {
     "name": "stdout",
     "output_type": "stream",
     "text": [
      "[0.852301337119916, 0.14769872401249756]\n",
      "His best of 14:45.03, done at the Olympics last summer when he finished 4th, is nearly 20 seconds clear of the next fastest active American. However, after doing both pool and open water in Rio, he has decided to take a step back from the pool for the year.\n",
      "[0.9009592331220994, 0.09904074862246436]\n",
      "He told Swimming World:\n",
      "“I decided to take off pool Nationals,” he said. “It’s the first year of the quad, so it’s a little bit more relaxed.\n",
      "[0.6923275848753915, 0.3076723813696228]\n",
      "Just decided to focus on open water this summer, hopefully put up a good 10k at Worlds and then next year start focusing on the 1500 and 10k again for Pan Pacs.”\n",
      "Two years ago in Kazan, when Wilimovsky was solely focusing on open water, he took the gold medal in the men’s 10K. Last summer, shortly after competing in the pool, he took 5th in a very close race.\n",
      "[0.8361125855933871, 0.1638874459805924]\n",
      "With Wilimovsky out, we’ve had to adjust our picks in the men’s distance events. Initially we had him 1st in the mile and 3rd in the 800, but with this change True Sweetser is now our pick for the second Worlds spot in the 1500, along with Robert Finke.\n",
      "[0.8433018006800056, 0.15669816383036875]\n",
      "Check out our updates picks in the 1500 and 800.\n",
      "[0.7011375930874053, 0.2988624343300852]\n",
      "Login Email Address: Password: Already a paid subscriber but not registered for online access yet? For instructions on how to get premium web access, click here.\n",
      "[0.5228416358712362, 0.4771583619561597]\n",
      "Forgot your password? Share this: Email\n",
      "Print\n",
      "Facebook\n",
      "LinkedIn\n",
      "Twitter\n",
      "Google\n",
      "A lawyer who ran a $46 million investment scheme exploiting terminally ill people is fighting the government’s attempt to recover some of the money he’s been ordered to pay back.\n",
      "[0.7401980327326693, 0.25980198331405535]\n",
      "Joseph Caramadre, who is serving time in a federal prison in Massachusetts, appeared in U.S. District Court in Providence via videoconference on Sept. 28. He was ordered ...\n",
      "[0.7026505130386895, 0.2973494853530779]\n",
      "In 2016 newcomer Courtney Cole released her new single, “Free 99,” she’s been on tour with Miranda Lambert as part of her Roadside Bars & Pink Guitars Tour and opened for acts like Kenny Chesney, Chris Young and Kip Moore. After a busy 2016, the Louisiana native is looking forward to the new year and what’s to come.\n",
      "[0.8613154624615977, 0.13868457696206823]\n",
      "“2017 looks so fun,” Courtney tells Nash Country Daily. “I’m so excited, we’re booking a bunch of shows right now.\n",
      "[0.5435619633937557, 0.45643805016613365]\n",
      "I love traveling. We’re playing Stagecoach [Festival] this year, which is a dream come true for me.\n",
      "[0.5542903612444601, 0.4457096589931338]\n",
      "I love California. I’m a cowgirl at heart.\n",
      "[0.26334846731736256, 0.7366515818723883]\n",
      "So we’re doing that, then I’m releasing an EP. Just new music and lots of performing.”\n",
      "With 2017 in full swing, NCD sat down with the newcomer to learn more about her and to find out a few of her favorite things.\n",
      "[0.6395918667477467, 0.3604081341539224]\n",
      "Favorite color? Blue.\n",
      "[0.19713054817465694, 0.8028694497746838]\n",
      "Favorite ice cream? Chocolate chip cookie dough.\n",
      "[0.15895815168448307, 0.841041791811911]\n",
      "Favorite flower? Tulip.\n",
      "[0.19295374170697593, 0.8070463081185976]\n",
      "No lily. Favorite song?\n",
      "[0.14148122990440795, 0.8585187329519668]\n",
      "Right now, I love to listen to Jon Bellion. Favorite movie?\n",
      "[0.41770866719247746, 0.58229134776221]\n",
      "The Holiday. Favorite item of clothing?\n",
      "[0.3019838515130518, 0.6980161462267458]\n",
      "Yoga pants. Favorite drink?\n",
      "[0.20101883948428714, 0.7989810909531841]\n",
      "Margarita. Favorite food?\n",
      "[0.286985507859346, 0.713014453429015]\n",
      "Mexican food. Favorite actor/actress?\n",
      "[0.24255719650785296, 0.7574428153633149]\n",
      "Julia Roberts. Favorite board game?\n",
      "[0.2520509276975018, 0.7479490762424671]\n",
      "Cards Against Humanity. Fave.\n",
      "[0.3846560303379713, 0.6153439936862194]\n",
      "Favorite number? Eight.\n",
      "[0.43420509352204745, 0.5657949345244278]\n",
      "Favorite day of the week? Sunday.\n",
      "[0.45408538907799817, 0.5459146586597898]\n",
      "Favorite season? Summer.\n",
      "[0.5176538736164228, 0.4823461287460213]\n",
      "Favorite sport? Football, just because of nachos.\n",
      "[0.2759542219777641, 0.7240457610759949]\n",
      "Favorite scent? Whatever lotion I’m wearing.\n",
      "[0.2740014978484267, 0.7259985235754995]\n",
      "Rose something.\n",
      "[0.25423345854215124, 0.7457664711455034]\n"
     ]
    }
   ],
   "source": [
    "eval_discrim(discriminator)"
   ]
  },
  {
   "cell_type": "code",
   "execution_count": 83,
   "id": "fa47f3a7",
   "metadata": {},
   "outputs": [
    {
     "data": {
      "text/plain": [
       "[0.45476621984779597, 0.5452338459990632]"
      ]
     },
     "execution_count": 83,
     "metadata": {},
     "output_type": "execute_result"
    }
   ],
   "source": [
    "discriminator.predict('Jordan Wilimovsky found it amusing that the bonobos couldnt hear')"
   ]
  },
  {
   "cell_type": "code",
   "execution_count": 111,
   "id": "9308223e",
   "metadata": {},
   "outputs": [
    {
     "data": {
      "text/plain": [
       "<module 'PPLM.run_pplm' from '/n/fs/nlp-mwtang/onthefly/PPLM/run_pplm.py'>"
      ]
     },
     "execution_count": 111,
     "metadata": {},
     "output_type": "execute_result"
    }
   ],
   "source": [
    "import PPLM\n",
    "from PPLM.pplm_classification_head import ClassificationHead\n",
    "from PPLM.run_pplm_discrim_train import *\n",
    "from PPLM.run_pplm import run_pplm_example\n",
    "\n",
    "# reload while modifying PPLM code\n",
    "import imp\n",
    "imp.reload(PPLM)\n",
    "imp.reload(PPLM.run_pplm)"
   ]
  },
  {
   "cell_type": "code",
   "execution_count": 113,
   "id": "03d171f2",
   "metadata": {},
   "outputs": [
    {
     "data": {
      "text/plain": [
       "<function PPLM.run_pplm.run_pplm_example(pretrained_model='gpt2-medium', cond_text='', uncond=False, num_samples=1, bag_of_words=None, discrim=None, discrim_weights=None, discrim_meta=None, class_label=-1, length=100, stepsize=0.02, temperature=1.0, top_k=10, sample=True, num_iterations=3, grad_length=10000, horizon_length=1, window_length=0, decay=False, gamma=1.5, gm_scale=0.9, kl_scale=0.01, seed=0, no_cuda=False, colorama=False, verbosity='regular', on_the_fly=False, classifier=None, class_id=None)>"
      ]
     },
     "execution_count": 113,
     "metadata": {},
     "output_type": "execute_result"
    }
   ],
   "source": [
    "PPLM.run_pplm.run_pplm_example"
   ]
  },
  {
   "cell_type": "code",
   "execution_count": 123,
   "id": "1c174b96",
   "metadata": {},
   "outputs": [
    {
     "name": "stdout",
     "output_type": "stream",
     "text": [
      "= Prefix of sentence =\n",
      "<|endoftext|>Article Title: Man, 22, dies in Duluth neighborhood shooting Article Text: Duluth police responded to\n",
      "\n",
      "= Unperturbed generated text =\n",
      "<|endoftext|>Article Title: Man, 22, dies in Duluth neighborhood shooting Article Text: Duluth police responded to a reported shooting near East Main Street and Sibley Avenue in the 1200 block of East Main Street at about 3:30 a.m. Sunday. An individual was found with multiple gunshot wounds, police said. Police say the shooter was later taken into custody, but declined to give further details Sunday. Duluth police said they received a 911 call of a shooting near East Main Street and Sibley Avenue at about 3:45 a.m. Sunday. When officers arrived, they saw a\n",
      "\n",
      "= Perturbed generated text 1 =\n",
      "<|endoftext|>Article Title: Man, 22, dies in Duluth neighborhood shooting Article Text: Duluth police responded to a the victim's house in the 12-10/90000 at a 9:30:00 a in the 4a., and the, and the and of the the 2/4/4, and and the and of the the and of and the 4 of the\n",
      "\n",
      " the and the and of and the and of and the and of the and of and of and the\n",
      "\n",
      " and of and the and the and of and of of and the and of and the\n",
      "\n",
      "\n",
      "\n",
      "= Perturbed generated text 2 =\n",
      "<|endoftext|>Article Title: Man, 22, dies in Duluth neighborhood shooting Article Text: Duluth police responded to the incident and had a man shot in a a neighborhood on Saturday, Jan, 12 and to the shooting in a nearby residential home on Sunday, according in the a police department..<|endoftext|>The D. C, N. S. A., in a separate incident this afternoon, was found, and was taken to the custody, by the Police Department, of the Captains of the two, and of the two other officers, at the same time,, who were at the Townhouse on\n",
      "\n",
      "= Perturbed generated text 3 =\n",
      "<|endoftext|>Article Title: Man, 22, dies in Duluth neighborhood shooting Article Text: Duluth police responded to the man's of the 5th-1st (1:15).\n",
      "\n",
      "A man, a man, a�th,, an, and a, a the, and a, a, and an a, a a, an an a, and a, a, a and an a, and an a, a a. a, a, an,, an an and a, a a, a, a, a, a, a, a, a, and a\n",
      "\n"
     ]
    }
   ],
   "source": [
    "prefix = ' '.join(nltk.word_tokenize(actual_text[:100])[:4])\n",
    "run_pplm_example(\n",
    "        pretrained_model=\"gpt2-medium\",\n",
    "        cond_text='Article Title: ' + query + ' Article Text: ' + prefix,\n",
    "        uncond=False,\n",
    "        num_samples=3,\n",
    "        bag_of_words=None,\n",
    "        discrim=None,\n",
    "        discrim_weights=None,\n",
    "        discrim_meta=None,\n",
    "        class_label=-1,\n",
    "        length=100,\n",
    "        stepsize=0.02,\n",
    "        temperature=1.0,\n",
    "        top_k=10,\n",
    "        sample=True,\n",
    "        num_iterations=3,\n",
    "        grad_length=10000,\n",
    "        horizon_length=1,\n",
    "        window_length=0,\n",
    "        decay=False,\n",
    "        gamma=1.5,\n",
    "        gm_scale=0.9,\n",
    "        kl_scale=0.01,\n",
    "        seed=0,\n",
    "        no_cuda=False,\n",
    "        colorama=False,\n",
    "        verbosity='quiet',\n",
    "        on_the_fly=True, # NEW PARAMS\n",
    "        classifier=discriminator.get_classifier(), # NEW PARAMS\n",
    "        class_id=1, # NEW PARAMS\n",
    ")"
   ]
  },
  {
   "cell_type": "markdown",
   "id": "82f47fcd",
   "metadata": {},
   "source": [
    "5. is Bag of Words PPLM better? (IN PROGRESS)"
   ]
  },
  {
   "cell_type": "code",
   "execution_count": 142,
   "id": "83307052",
   "metadata": {},
   "outputs": [],
   "source": [
    "pos_words = []\n",
    "for x in pos_refs:\n",
    "    pos_words.extend(nltk.word_tokenize(x))"
   ]
  },
  {
   "cell_type": "code",
   "execution_count": 148,
   "id": "771f2f3b",
   "metadata": {},
   "outputs": [
    {
     "data": {
      "text/plain": [
       "[('Las', 'Vegas'),\n",
       " ('training', 'exercise'),\n",
       " ('trip', 'wire'),\n",
       " ('what', 'we'),\n",
       " ('Reporter', ':'),\n",
       " ('That', \"'s\"),\n",
       " ('Kaunda', 'said'),\n",
       " ('the', 'latest'),\n",
       " (',', 'but'),\n",
       " ('.', 'A')]"
      ]
     },
     "execution_count": 148,
     "metadata": {},
     "output_type": "execute_result"
    }
   ],
   "source": [
    "import nltk\n",
    "from nltk.collocations import *\n",
    "bigram_measures = nltk.collocations.BigramAssocMeasures()\n",
    "trigram_measures = nltk.collocations.TrigramAssocMeasures()\n",
    "\n",
    "finder = BigramCollocationFinder.from_words(pos_words)\n",
    "\n",
    "# only bigrams that appear 3+ times\n",
    "finder.apply_freq_filter(3)\n",
    "\n",
    "# return the 10 n-grams with the highest PMI\n",
    "finder.nbest(bigram_measures.pmi, 10)"
   ]
  },
  {
   "cell_type": "code",
   "execution_count": 188,
   "id": "c5b8112a",
   "metadata": {},
   "outputs": [],
   "source": [
    "from densephrases import DensePhrases"
   ]
  },
  {
   "cell_type": "code",
   "execution_count": 189,
   "id": "fc9504d9",
   "metadata": {},
   "outputs": [
    {
     "name": "stdout",
     "output_type": "stream",
     "text": [
      "This could take up to 15 mins depending on the file reading speed of HDD/SSD\n"
     ]
    },
    {
     "name": "stderr",
     "output_type": "stream",
     "text": [
      "usage: ipykernel_launcher.py [-h] [--seed SEED] [--draft] [--verbose_logging]\n",
      "                             [--fp16] [--fp16_opt_level FP16_OPT_LEVEL]\n",
      "                             [--model_type MODEL_TYPE]\n",
      "                             [--pretrained_name_or_path PRETRAINED_NAME_OR_PATH]\n",
      "                             [--config_name CONFIG_NAME]\n",
      "                             [--tokenizer_name TOKENIZER_NAME]\n",
      "                             [--load_dir LOAD_DIR] [--output_dir OUTPUT_DIR]\n",
      "                             [--max_seq_length MAX_SEQ_LENGTH]\n",
      "                             [--doc_stride DOC_STRIDE]\n",
      "                             [--max_query_length MAX_QUERY_LENGTH]\n",
      "                             [--max_answer_length MAX_ANSWER_LENGTH]\n",
      "                             [--do_lower_case] [--stage STAGE]\n",
      "                             [--dump_dir DUMP_DIR] [--offset OFFSET]\n",
      "                             [--quantizer_path QUANTIZER_PATH]\n",
      "                             [--trained_index_path TRAINED_INDEX_PATH]\n",
      "                             [--phrase_dir PHRASE_DIR]\n",
      "                             [--index_name INDEX_NAME]\n",
      "                             [--index_path INDEX_PATH]\n",
      "                             [--idx2id_path IDX2ID_PATH] [--add_all]\n",
      "                             [--num_clusters NUM_CLUSTERS] [--hnsw]\n",
      "                             [--fine_quant FINE_QUANT] [--norm_th NORM_TH]\n",
      "                             [--doc_sample_ratio DOC_SAMPLE_RATIO]\n",
      "                             [--vec_sample_ratio VEC_SAMPLE_RATIO] [--cuda]\n",
      "                             [--replace] [--num_docs_per_add NUM_DOCS_PER_ADD]\n",
      "                             [--first_passage] [--index_filter INDEX_FILTER]\n",
      "                             [--dump_paths DUMP_PATHS] [--inv_path INV_PATH]\n",
      "                             [--subindex_name SUBINDEX_NAME]\n",
      "                             [--run_mode RUN_MODE] [--top_k TOP_K]\n",
      "                             [--nprobe NPROBE] [--aggregate]\n",
      "                             [--agg_strat AGG_STRAT] [--dev_path DEV_PATH]\n",
      "                             [--test_path TEST_PATH]\n",
      "                             [--candidate_path CANDIDATE_PATH] [--regex]\n",
      "                             [--eval_batch_size EVAL_BATCH_SIZE] [--save_pred]\n",
      "                             [--eval_psg] [--psg_top_k PSG_TOP_K]\n",
      "                             [--max_psg_len MAX_PSG_LEN] [--mark_phrase]\n",
      "                             [--return_sent] [--sent_window SENT_WINDOW]\n",
      "                             [--is_kilt] [--kilt_gold_path KILT_GOLD_PATH]\n",
      "                             [--title2wikiid_path TITLE2WIKIID_PATH]\n",
      "                             [--data_dir DATA_DIR] [--cache_dir CACHE_DIR]\n",
      "                             [--threads THREADS]\n",
      "                             [--truecase_path TRUECASE_PATH] [--truecase]\n",
      "ipykernel_launcher.py: error: unrecognized arguments: -f /n/fs/ugrad/ug24/mwtang/.local/share/jupyter/runtime/kernel-d3c1f798-cfed-4957-9db4-6c26c30a3343.json\n"
     ]
    },
    {
     "ename": "SystemExit",
     "evalue": "2",
     "output_type": "error",
     "traceback": [
      "An exception has occurred, use %tb to see the full traceback.\n",
      "\u001b[0;31mSystemExit\u001b[0m\u001b[0;31m:\u001b[0m 2\n"
     ]
    }
   ],
   "source": [
    "model = DensePhrases(\n",
    "    load_dir='princeton-nlp/densephrases-multi-query-kilt-multi',\n",
    "    dump_dir='/n/fs/nlp-mwtang/onthefly/densephrases_dump/densephrases-multi_wiki-20181220/dump',\n",
    ")"
   ]
  },
  {
   "cell_type": "code",
   "execution_count": 190,
   "id": "defa38ed",
   "metadata": {},
   "outputs": [
    {
     "ename": "SystemExit",
     "evalue": "2",
     "output_type": "error",
     "traceback": [
      "\u001b[0;31m---------------------------------------------------------------------------\u001b[0m",
      "\u001b[0;31mSystemExit\u001b[0m                                Traceback (most recent call last)",
      "Cell \u001b[0;32mIn [189], line 1\u001b[0m\n\u001b[0;32m----> 1\u001b[0m model \u001b[38;5;241m=\u001b[39m \u001b[43mDensePhrases\u001b[49m\u001b[43m(\u001b[49m\n\u001b[1;32m      2\u001b[0m \u001b[43m    \u001b[49m\u001b[43mload_dir\u001b[49m\u001b[38;5;241;43m=\u001b[39;49m\u001b[38;5;124;43m'\u001b[39;49m\u001b[38;5;124;43mprinceton-nlp/densephrases-multi-query-kilt-multi\u001b[39;49m\u001b[38;5;124;43m'\u001b[39;49m\u001b[43m,\u001b[49m\n\u001b[1;32m      3\u001b[0m \u001b[43m    \u001b[49m\u001b[43mdump_dir\u001b[49m\u001b[38;5;241;43m=\u001b[39;49m\u001b[38;5;124;43m'\u001b[39;49m\u001b[38;5;124;43m/n/fs/nlp-mwtang/onthefly/densephrases_dump/densephrases-multi_wiki-20181220/dump\u001b[39;49m\u001b[38;5;124;43m'\u001b[39;49m\u001b[43m,\u001b[49m\n\u001b[1;32m      4\u001b[0m \u001b[43m)\u001b[49m\n",
      "File \u001b[0;32m/n/fs/nlp-mwtang/onthefly/DensePhrases/densephrases/model.py:35\u001b[0m, in \u001b[0;36mDensePhrases.__init__\u001b[0;34m(self, load_dir, dump_dir, index_name, device, verbose, **kwargs)\u001b[0m\n\u001b[1;32m     33\u001b[0m options\u001b[38;5;241m.\u001b[39madd_retrieval_options()\n\u001b[1;32m     34\u001b[0m options\u001b[38;5;241m.\u001b[39madd_data_options()\n\u001b[0;32m---> 35\u001b[0m \u001b[38;5;28mself\u001b[39m\u001b[38;5;241m.\u001b[39margs \u001b[38;5;241m=\u001b[39m \u001b[43moptions\u001b[49m\u001b[38;5;241;43m.\u001b[39;49m\u001b[43mparse\u001b[49m\u001b[43m(\u001b[49m\u001b[43m)\u001b[49m\n\u001b[1;32m     37\u001b[0m \u001b[38;5;66;03m# Set options\u001b[39;00m\n\u001b[1;32m     38\u001b[0m \u001b[38;5;28mself\u001b[39m\u001b[38;5;241m.\u001b[39margs\u001b[38;5;241m.\u001b[39mload_dir \u001b[38;5;241m=\u001b[39m load_dir\n",
      "File \u001b[0;32m/n/fs/nlp-mwtang/onthefly/DensePhrases/densephrases/options.py:227\u001b[0m, in \u001b[0;36mparse\u001b[0;34m(self)\u001b[0m\n\u001b[1;32m    223\u001b[0m         opt_file\u001b[38;5;241m.\u001b[39mwrite(\u001b[38;5;124m'\u001b[39m\u001b[38;5;130;01m\\n\u001b[39;00m\u001b[38;5;124m'\u001b[39m)\n\u001b[1;32m    225\u001b[0m     logger\u001b[38;5;241m.\u001b[39minfo(message)\n\u001b[0;32m--> 227\u001b[0m \u001b[38;5;28;01mdef\u001b[39;00m \u001b[38;5;21mparse\u001b[39m(\u001b[38;5;28mself\u001b[39m):\n\u001b[1;32m    228\u001b[0m     opt, unknown \u001b[38;5;241m=\u001b[39m \u001b[38;5;28mself\u001b[39m\u001b[38;5;241m.\u001b[39mparser\u001b[38;5;241m.\u001b[39mparse_known_args()\n\u001b[1;32m    229\u001b[0m     \u001b[38;5;66;03m# opt = self.parser.parse_args()\u001b[39;00m\n\u001b[1;32m    230\u001b[0m \n\u001b[1;32m    231\u001b[0m     \u001b[38;5;66;03m# Option sanity checks\u001b[39;00m\n",
      "File \u001b[0;32m/n/fs/nlp-mwtang/anaconda3/envs/stoch/lib/python3.8/argparse.py:1771\u001b[0m, in \u001b[0;36mArgumentParser.parse_args\u001b[0;34m(self, args, namespace)\u001b[0m\n\u001b[1;32m   1769\u001b[0m \u001b[38;5;28;01mif\u001b[39;00m argv:\n\u001b[1;32m   1770\u001b[0m     msg \u001b[38;5;241m=\u001b[39m _(\u001b[38;5;124m'\u001b[39m\u001b[38;5;124munrecognized arguments: \u001b[39m\u001b[38;5;132;01m%s\u001b[39;00m\u001b[38;5;124m'\u001b[39m)\n\u001b[0;32m-> 1771\u001b[0m     \u001b[38;5;28;43mself\u001b[39;49m\u001b[38;5;241;43m.\u001b[39;49m\u001b[43merror\u001b[49m\u001b[43m(\u001b[49m\u001b[43mmsg\u001b[49m\u001b[43m \u001b[49m\u001b[38;5;241;43m%\u001b[39;49m\u001b[43m \u001b[49m\u001b[38;5;124;43m'\u001b[39;49m\u001b[38;5;124;43m \u001b[39;49m\u001b[38;5;124;43m'\u001b[39;49m\u001b[38;5;241;43m.\u001b[39;49m\u001b[43mjoin\u001b[49m\u001b[43m(\u001b[49m\u001b[43margv\u001b[49m\u001b[43m)\u001b[49m\u001b[43m)\u001b[49m\n\u001b[1;32m   1772\u001b[0m \u001b[38;5;28;01mreturn\u001b[39;00m args\n",
      "File \u001b[0;32m/n/fs/nlp-mwtang/anaconda3/envs/stoch/lib/python3.8/argparse.py:2521\u001b[0m, in \u001b[0;36mArgumentParser.error\u001b[0;34m(self, message)\u001b[0m\n\u001b[1;32m   2519\u001b[0m \u001b[38;5;28mself\u001b[39m\u001b[38;5;241m.\u001b[39mprint_usage(_sys\u001b[38;5;241m.\u001b[39mstderr)\n\u001b[1;32m   2520\u001b[0m args \u001b[38;5;241m=\u001b[39m {\u001b[38;5;124m'\u001b[39m\u001b[38;5;124mprog\u001b[39m\u001b[38;5;124m'\u001b[39m: \u001b[38;5;28mself\u001b[39m\u001b[38;5;241m.\u001b[39mprog, \u001b[38;5;124m'\u001b[39m\u001b[38;5;124mmessage\u001b[39m\u001b[38;5;124m'\u001b[39m: message}\n\u001b[0;32m-> 2521\u001b[0m \u001b[38;5;28;43mself\u001b[39;49m\u001b[38;5;241;43m.\u001b[39;49m\u001b[43mexit\u001b[49m\u001b[43m(\u001b[49m\u001b[38;5;241;43m2\u001b[39;49m\u001b[43m,\u001b[49m\u001b[43m \u001b[49m\u001b[43m_\u001b[49m\u001b[43m(\u001b[49m\u001b[38;5;124;43m'\u001b[39;49m\u001b[38;5;132;43;01m%(prog)s\u001b[39;49;00m\u001b[38;5;124;43m: error: \u001b[39;49m\u001b[38;5;132;43;01m%(message)s\u001b[39;49;00m\u001b[38;5;130;43;01m\\n\u001b[39;49;00m\u001b[38;5;124;43m'\u001b[39;49m\u001b[43m)\u001b[49m\u001b[43m \u001b[49m\u001b[38;5;241;43m%\u001b[39;49m\u001b[43m \u001b[49m\u001b[43margs\u001b[49m\u001b[43m)\u001b[49m\n",
      "File \u001b[0;32m/n/fs/nlp-mwtang/anaconda3/envs/stoch/lib/python3.8/argparse.py:2508\u001b[0m, in \u001b[0;36mArgumentParser.exit\u001b[0;34m(self, status, message)\u001b[0m\n\u001b[1;32m   2506\u001b[0m \u001b[38;5;28;01mif\u001b[39;00m message:\n\u001b[1;32m   2507\u001b[0m     \u001b[38;5;28mself\u001b[39m\u001b[38;5;241m.\u001b[39m_print_message(message, _sys\u001b[38;5;241m.\u001b[39mstderr)\n\u001b[0;32m-> 2508\u001b[0m \u001b[43m_sys\u001b[49m\u001b[38;5;241;43m.\u001b[39;49m\u001b[43mexit\u001b[49m\u001b[43m(\u001b[49m\u001b[43mstatus\u001b[49m\u001b[43m)\u001b[49m\n",
      "\u001b[0;31mSystemExit\u001b[0m: 2"
     ]
    }
   ],
   "source": [
    "%tb"
   ]
  },
  {
   "cell_type": "code",
   "execution_count": 68,
   "id": "5b8cd56c",
   "metadata": {},
   "outputs": [
    {
     "data": {
      "text/plain": [
       "[0.1872495619617495, 0.8127504624775858]"
      ]
     },
     "execution_count": 68,
     "metadata": {},
     "output_type": "execute_result"
    }
   ],
   "source": [
    "discriminator.predict('The seagulls came to the beach without seeing anything.')"
   ]
  },
  {
   "cell_type": "code",
   "execution_count": 166,
   "id": "60db2b7a",
   "metadata": {},
   "outputs": [
    {
     "name": "stdout",
     "output_type": "stream",
     "text": [
      "Preprocessing <PPLM.run_pplm_discrim_train.Dataset object at 0x7f1e220f4a60> dataset...\n"
     ]
    },
    {
     "ename": "ValueError",
     "evalue": "When generic dataset is selected, dataset_fp needs to be specified aswell.",
     "output_type": "error",
     "traceback": [
      "\u001b[0;31m---------------------------------------------------------------------------\u001b[0m",
      "\u001b[0;31mValueError\u001b[0m                                Traceback (most recent call last)",
      "Cell \u001b[0;32mIn [166], line 5\u001b[0m\n\u001b[1;32m      3\u001b[0m ref_y \u001b[38;5;241m=\u001b[39m np\u001b[38;5;241m.\u001b[39marray(ref_y)[perm]\n\u001b[1;32m      4\u001b[0m ref_dataset \u001b[38;5;241m=\u001b[39m PPLM\u001b[38;5;241m.\u001b[39mrun_pplm_discrim_train\u001b[38;5;241m.\u001b[39mDataset(ref_X, ref_y)\n\u001b[0;32m----> 5\u001b[0m disc, disc_meta \u001b[38;5;241m=\u001b[39m \u001b[43mtrain_discriminator\u001b[49m\u001b[43m(\u001b[49m\u001b[43mref_dataset\u001b[49m\u001b[43m,\u001b[49m\u001b[43m \u001b[49m\u001b[43mepochs\u001b[49m\u001b[38;5;241;43m=\u001b[39;49m\u001b[43mref_train_epochs\u001b[49m\u001b[43m,\u001b[49m\u001b[43m \u001b[49m\u001b[43mlearning_rate\u001b[49m\u001b[38;5;241;43m=\u001b[39;49m\u001b[43mref_lr\u001b[49m\u001b[43m,\u001b[49m\u001b[43m \u001b[49m\u001b[43mbatch_size\u001b[49m\u001b[38;5;241;43m=\u001b[39;49m\u001b[43mref_batch_size\u001b[49m\u001b[43m)\u001b[49m\n",
      "File \u001b[0;32m/n/fs/nlp-mwtang/onthefly/PPLM/run_pplm_discrim_train.py:521\u001b[0m, in \u001b[0;36mtrain_discriminator\u001b[0;34m(dataset, dataset_fp, pretrained_model, epochs, learning_rate, batch_size, log_interval, save_model, cached, no_cuda, output_fp)\u001b[0m\n\u001b[1;32m    516\u001b[0m \u001b[38;5;28;01melse\u001b[39;00m:  \u001b[38;5;66;03m# if dataset == \"generic\":\u001b[39;00m\n\u001b[1;32m    517\u001b[0m     \u001b[38;5;66;03m# This assumes the input dataset is a TSV with the following structure:\u001b[39;00m\n\u001b[1;32m    518\u001b[0m     \u001b[38;5;66;03m# class \\t text\u001b[39;00m\n\u001b[1;32m    520\u001b[0m     \u001b[38;5;28;01mif\u001b[39;00m dataset_fp \u001b[38;5;129;01mis\u001b[39;00m \u001b[38;5;28;01mNone\u001b[39;00m:\n\u001b[0;32m--> 521\u001b[0m         \u001b[38;5;28;01mraise\u001b[39;00m \u001b[38;5;167;01mValueError\u001b[39;00m(\u001b[38;5;124m\"\u001b[39m\u001b[38;5;124mWhen generic dataset is selected, \u001b[39m\u001b[38;5;124m\"\u001b[39m\n\u001b[1;32m    522\u001b[0m                          \u001b[38;5;124m\"\u001b[39m\u001b[38;5;124mdataset_fp needs to be specified aswell.\u001b[39m\u001b[38;5;124m\"\u001b[39m)\n\u001b[1;32m    524\u001b[0m     idx2class \u001b[38;5;241m=\u001b[39m get_idx2class(dataset_fp)\n\u001b[1;32m    526\u001b[0m     discriminator \u001b[38;5;241m=\u001b[39m Discriminator(\n\u001b[1;32m    527\u001b[0m         class_size\u001b[38;5;241m=\u001b[39m\u001b[38;5;28mlen\u001b[39m(idx2class),\n\u001b[1;32m    528\u001b[0m         pretrained_model\u001b[38;5;241m=\u001b[39mpretrained_model,\n\u001b[1;32m    529\u001b[0m         cached_mode\u001b[38;5;241m=\u001b[39mcached,\n\u001b[1;32m    530\u001b[0m         device\u001b[38;5;241m=\u001b[39mdevice\n\u001b[1;32m    531\u001b[0m     )\u001b[38;5;241m.\u001b[39mto(device)\n",
      "\u001b[0;31mValueError\u001b[0m: When generic dataset is selected, dataset_fp needs to be specified aswell."
     ]
    }
   ],
   "source": [
    "ref_dataset = PPLM.run_pplm_discrim_train.Dataset(ref_X, ref_y)\n",
    "disc, disc_meta = train_discriminator(ref_dataset, epochs=ref_train_epochs, learning_rate=ref_lr, batch_size=ref_batch_size)"
   ]
  }
 ],
 "metadata": {
  "kernelspec": {
   "display_name": "Python 3 (ipykernel)",
   "language": "python",
   "name": "python3"
  },
  "language_info": {
   "codemirror_mode": {
    "name": "ipython",
    "version": 3
   },
   "file_extension": ".py",
   "mimetype": "text/x-python",
   "name": "python",
   "nbconvert_exporter": "python",
   "pygments_lexer": "ipython3",
   "version": "3.8.13"
  }
 },
 "nbformat": 4,
 "nbformat_minor": 5
}
